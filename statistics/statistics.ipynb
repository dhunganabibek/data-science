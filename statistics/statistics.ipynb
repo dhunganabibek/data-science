{
 "cells": [
  {
   "cell_type": "markdown",
   "id": "10b13511",
   "metadata": {},
   "source": [
    "# Statistics"
   ]
  },
  {
   "cell_type": "markdown",
   "id": "c044e34c",
   "metadata": {},
   "source": [
    "### Percentile\n",
    "\n",
    "How much percentage data is lower than than value.\n",
    "\n",
    "Percentile Rank (Position) = $ (\\frac {P} {100} ) * (N + 1) $\n",
    "\n",
    "Where, P = desired percentile\n",
    "N = number of data points\n"
   ]
  },
  {
   "cell_type": "markdown",
   "id": "12e88a76",
   "metadata": {},
   "source": []
  }
 ],
 "metadata": {
  "language_info": {
   "name": "python"
  }
 },
 "nbformat": 4,
 "nbformat_minor": 5
}
