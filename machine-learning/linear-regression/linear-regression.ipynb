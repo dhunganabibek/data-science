{
 "cells": [
  {
   "cell_type": "markdown",
   "id": "571416d8",
   "metadata": {},
   "source": [
    "# simple linear regression\n",
    "Types\n",
    "1. Ordinary Least  Square\n",
    "2. Gradient Descent"
   ]
  },
  {
   "cell_type": "code",
   "execution_count": 4,
   "id": "204e7f85",
   "metadata": {},
   "outputs": [],
   "source": [
    "# importing libraries\n",
    "import numpy as np\n",
    "import pandas as pd\n",
    "from sklearn.datasets import make_regression\n",
    "from sklearn.metrics import mean_absolute_error, mean_squared_error, r2_score\n",
    "from sklearn.model_selection import train_test_split\n",
    "import plotly.express as px\n"
   ]
  },
  {
   "cell_type": "code",
   "execution_count": 5,
   "id": "73217185",
   "metadata": {},
   "outputs": [],
   "source": [
    "# creating a regression dataset\n",
    "X, y = make_regression(n_samples=100, n_features=2, noise=10, random_state=42, n_informative=2, n_targets=1)"
   ]
  },
  {
   "cell_type": "code",
   "execution_count": 6,
   "id": "e5ae74d7",
   "metadata": {},
   "outputs": [
    {
     "data": {
      "text/plain": [
       "((100, 2), (100,))"
      ]
     },
     "execution_count": 6,
     "metadata": {},
     "output_type": "execute_result"
    }
   ],
   "source": [
    "# shape of the dataset\n",
    "X.shape, y.shape"
   ]
  },
  {
   "cell_type": "code",
   "execution_count": 7,
   "id": "de850245",
   "metadata": {},
   "outputs": [
    {
     "data": {
      "text/html": [
       "<div>\n",
       "<style scoped>\n",
       "    .dataframe tbody tr th:only-of-type {\n",
       "        vertical-align: middle;\n",
       "    }\n",
       "\n",
       "    .dataframe tbody tr th {\n",
       "        vertical-align: top;\n",
       "    }\n",
       "\n",
       "    .dataframe thead th {\n",
       "        text-align: right;\n",
       "    }\n",
       "</style>\n",
       "<table border=\"1\" class=\"dataframe\">\n",
       "  <thead>\n",
       "    <tr style=\"text-align: right;\">\n",
       "      <th></th>\n",
       "      <th>feature_1</th>\n",
       "      <th>feature_2</th>\n",
       "      <th>target</th>\n",
       "    </tr>\n",
       "  </thead>\n",
       "  <tbody>\n",
       "    <tr>\n",
       "      <th>0</th>\n",
       "      <td>-1.191303</td>\n",
       "      <td>0.656554</td>\n",
       "      <td>-49.265023</td>\n",
       "    </tr>\n",
       "    <tr>\n",
       "      <th>1</th>\n",
       "      <td>0.058209</td>\n",
       "      <td>-1.142970</td>\n",
       "      <td>-85.162387</td>\n",
       "    </tr>\n",
       "    <tr>\n",
       "      <th>2</th>\n",
       "      <td>0.586857</td>\n",
       "      <td>2.190456</td>\n",
       "      <td>211.225658</td>\n",
       "    </tr>\n",
       "    <tr>\n",
       "      <th>3</th>\n",
       "      <td>0.473238</td>\n",
       "      <td>-0.072829</td>\n",
       "      <td>29.196562</td>\n",
       "    </tr>\n",
       "    <tr>\n",
       "      <th>4</th>\n",
       "      <td>0.738467</td>\n",
       "      <td>0.171368</td>\n",
       "      <td>84.348096</td>\n",
       "    </tr>\n",
       "    <tr>\n",
       "      <th>...</th>\n",
       "      <td>...</td>\n",
       "      <td>...</td>\n",
       "      <td>...</td>\n",
       "    </tr>\n",
       "    <tr>\n",
       "      <th>95</th>\n",
       "      <td>0.361396</td>\n",
       "      <td>1.538037</td>\n",
       "      <td>147.505343</td>\n",
       "    </tr>\n",
       "    <tr>\n",
       "      <th>96</th>\n",
       "      <td>0.296120</td>\n",
       "      <td>0.261055</td>\n",
       "      <td>32.710111</td>\n",
       "    </tr>\n",
       "    <tr>\n",
       "      <th>97</th>\n",
       "      <td>-0.990536</td>\n",
       "      <td>-0.566298</td>\n",
       "      <td>-141.334380</td>\n",
       "    </tr>\n",
       "    <tr>\n",
       "      <th>98</th>\n",
       "      <td>-0.460639</td>\n",
       "      <td>1.057122</td>\n",
       "      <td>48.782598</td>\n",
       "    </tr>\n",
       "    <tr>\n",
       "      <th>99</th>\n",
       "      <td>0.259883</td>\n",
       "      <td>0.781823</td>\n",
       "      <td>70.901315</td>\n",
       "    </tr>\n",
       "  </tbody>\n",
       "</table>\n",
       "<p>100 rows × 3 columns</p>\n",
       "</div>"
      ],
      "text/plain": [
       "    feature_1  feature_2      target\n",
       "0   -1.191303   0.656554  -49.265023\n",
       "1    0.058209  -1.142970  -85.162387\n",
       "2    0.586857   2.190456  211.225658\n",
       "3    0.473238  -0.072829   29.196562\n",
       "4    0.738467   0.171368   84.348096\n",
       "..        ...        ...         ...\n",
       "95   0.361396   1.538037  147.505343\n",
       "96   0.296120   0.261055   32.710111\n",
       "97  -0.990536  -0.566298 -141.334380\n",
       "98  -0.460639   1.057122   48.782598\n",
       "99   0.259883   0.781823   70.901315\n",
       "\n",
       "[100 rows x 3 columns]"
      ]
     },
     "execution_count": 7,
     "metadata": {},
     "output_type": "execute_result"
    }
   ],
   "source": [
    "# creating a  dataframe from the data\n",
    "df = pd.DataFrame({'feature_1': X[:, 0], 'feature_2': X[:, 1], 'target': y })\n",
    "df"
   ]
  },
  {
   "cell_type": "code",
   "execution_count": 20,
   "id": "25cab0c1",
   "metadata": {},
   "outputs": [
    {
     "data": {
      "application/vnd.plotly.v1+json": {
       "config": {
        "plotlyServerURL": "https://plot.ly"
       },
       "data": [
        {
         "hovertemplate": "feature_1=%{x}<br>feature_2=%{y}<br>target=%{z}<extra></extra>",
         "legendgroup": "",
         "marker": {
          "color": "#636efa",
          "size": 4,
          "symbol": "circle"
         },
         "mode": "markers",
         "name": "",
         "scene": "scene",
         "showlegend": false,
         "type": "scatter3d",
         "x": {
          "bdata": "aYiBQZQP87/ooSJ8iM2tP0uHKYeIx+I/Le0xdoZJ3j++nUiqhKHnP5T5Effmduy/7XIjckmz/r8cYhNzs5Pcv7DVSic2AOo/XG9XkwBJ8j8wbjxNjLPxv6Fsmod3BeQ/0js9oW44478apYzLTBjZv0CmV9+8+M2/Q/yxI+8Y67+QBsdh+UrtPzhYbbDKvdQ/OiugAxPauD/6IytdQW+yv3Abwa6iqN2/rPfNLTL/8L8IdECodET5P8TCNmO8oIo/j+MlX+xr7b/BbA5bNR7Mvw06yBDZ8XQ//1qwA0BA9b9fMbI2IJu9v3wwqSgqyt8/OIpGXqJ9tz+mMWnmyirGPxLk7nBDmfu/AdZ0NMPC5b8EJo3KW6X2vxsCfkTRLf4/aF4kUN255D9NOahTWKnlvyo+CwyzwdI/7T4bLfrT7j9w+Z6lnvjOP19fz+s89QTA3ZmHtuBoz7/5A4uBiA7tv3PsV8y+s+A/r71qQlUI6j94SMgMOHfmvzcuH7VJUuo/QQ2fH0xz9z9Lcu75Ld/pv1MVD7Xe2uq/5JwNesCCuT9CpChtCyXXP4ueeUveC96/VWYobMqq3r8V9c49eGryv+eq0BtRTuo/5IZhukifyL8349E5dKX3P9qDOHWEz/i/9Nq8q8vz4L8hrkt3t0i2P60Y23t+1q4/2MMf1IzK87+/NmYI8Lyzv8BzdZwCpcS/uPAUV0C4+b+IQQCR1/3VP987sV822v0/3zBiNWkQ6b+n/ak5LkHjvws0Ft4I79W/1Pz0Wvl+8D9VNCM6aB3NP3lRo2eONPC/3IIHKhMI0D9TYjSdlzDvv9CD1DoiUOk/auDaNiPw0L8noah+bGfLP7Vp79IKvMo/CDJXt73Fob96f45TTbXRP31ECyxgIvG/hoOw1m6ki7+KTA+JazPVPxp+bLVtmsy/KPrKUZVr4b+de06itHvQP8Y1sUaHSbE/UhmlZMpXor80xIdy2HH2Pwa4sKwGqPe/we3ZY49I7L8hCJKEm4nyP4/ppAgbIdc/IzBrdqLz0j9p9j08ebLvv9muIgobe92/zsOFceuh0D8=",
          "dtype": "f8"
         },
         "y": {
          "bdata": "DOaktnwC5T/jtRc5m0nyv2mLYZkNhgFAqoMQZuqksr8MLqRVZe/FPwxYtSseG+q/OEbHD3Qmm78ogL5xnmfrP/3Ng74os/U/Vn8F3dUP6D/09ZqOqSPzv354Cq/Vbeu/oNLzQhyr0r8Q9Hamjmr3vzvbcCYz+M2/+mSHcdA8+L+AxSAYQgrVP0APKiYwpdi/U7x4xyP/7j9qgA6DeA7wP+fvFiuEzt2/LYVNoFZP3j/z1/BG047oPwoy0PKsQfc/xu3HBIjM+D/Tieiv7trWP4RO9IDzBs6/QDr0vL8yyT/hr1BvSEXTvyoF3gWlssG/4hzsDxXN/79VAiE6CqnYP2M8oWpC/uG/nT7XOH26zT90hh9c2uvav5EnXNaQWMY/K6oBjlRe+D/57Akn2pLjP3/ISIH32+a/d7VmsQBr2j++Ne6+y5z+v79YGXsGTeo/8kr3TZse6L/HExTEy5j2vzXJvADMAdM/EVsOyJ6x87+XkvGmavjUvxx64lmTiPO/2Zhm4TzmzL+hdpfJZA7gv88pc7QiytO/b1yY+Xgc4L+vCgEv0qTkv30tauGmXOE/E259YKzDx7/o3X2zbwvYP/l+PJlDWf4/cjBhOY1M0z8wPL9sq5Xgv9YjgtZXjbE/A1zq0q9s4D/A7eC57yLTv7gI2ke4tANABr4PHZcg9b9JabMXb9XVPzMc/B/429k/cbUQEBWixz9OFQ2YaTX8v+BkxVBHU94/xtPZ56ec1L9X9hhz7qL9P3wxNGFBrOm/Hpzg9gvN7T/Tik2FDur0Px+GFtigHNQ/bQZjHDUs1j9TSQgNzC/pP/yNN7izGe2/TLhQDejCBUDe1B7Ji+7zv8MwUA/PWv+/zxHyveey8r9yFE0BSXjqP2JDLPvT4N4/RsyHS2Ls8L8AaBhqqjfvPw+CbpAX2eY/NQYxP2xlvD9gVYk14w6zv2InDcHEy/a/Mdc5yccI+T8a5Ehh+232vyemqLj2COe/TBpOp0Otwz/cO7eQB0PqvyBgEDvMm/g/FIEdLCG10D+zLI5qHB/iv2LC1/746fA/FIwxZrEE6T8=",
          "dtype": "f8"
         },
         "z": {
          "bdata": "f+YESOyhSMDwhkKMZEpVwDEhl5c4Z2pA12RQ3FEyPUB3i5wyRxZVQBXwIqH6kmDAsVIAPW8sZsCRAAR3GFY7QDtufX03JmhAKFvmBfZrY0D2DGb3NQZowJBLGjFZ/SzAjAj+HTSCVMDG/FNDfVhhwD487IgY1UnARms6CHcwZsCuTGcEqFRZQPVvI9LdvCXA3MmD2z5vUkCiJsGyBpdSQGqlsmZXgVHAbSEnrMxCT8B/9Qpu20BnQCsXAbrlrlpAUTGimxi6QUACDqXm4HUoQB48njc5AB/AbLmqq8InXsCi4kcFEUpIwIZiB5uXFUZA6LM8WoqKYcBjHY8sVARJQLylrNvfTmPAfYLs6GThRMCYLVGk0cNgwFcR18WEsmVAS47plvGFZkAOyh3wuDs1wEyK0ByBDj/AuQpQ79ENYUDKiFSyadZcwM8oiGcdDmTAISKI63G4U8BXVypmyp1lwACpn6ktclFAxps5A6gUQcCSgOtbsA1RwAwpHjccczHAPpxNGxFaXkCK2LCU0gZewCrfsdi/9VnASB/IbRB1KMD8DMmgyydCwFhz2Zy0mhBAEY8O7FyrS8B54lOUJmRQwBwx9jCdI2hAaG8EJ+BpKkCc+vaUqPtYQJCD7qfAKGLARND/6ndqKsBycoRC/W82wJsdjtkjBmhAKJBiMxI3acDQE3mYElE1QGBQCDpYw+I/qodxyW/QX8D2UJ55z/NYwO9vfkXd/WhA91IvIpGKU8BRahvePYNUQDRGzwQpy1PAxDXmOqnHZEBBUylIWw1gQP5H5GMX8E3AO5ueKNHRREAdPd/VuLMmwKrxAX3NXz7AN2GO6j2rZUAlzBzdiVdQwNatBady7FnAhDjPtsG4WMCBT6eBwNRTQLaFUf5O3EjATAkDsvEYVcAGQBDTnt9ZQHdqMTRybUJAR/QhuWpZRcCEpMCjTMA9QG8T/sGKRlfAgBozxCKJWkAfrlfjQvohQNtgNRF4eGfAYAErrMicUsA+uunx9no8QNGEIcQrcGJAcDXh7uRaQEDvG1I+s6phwHjq5CgsZEhAlgZ5JK+5UUA=",
          "dtype": "f8"
         }
        }
       ],
       "layout": {
        "legend": {
         "tracegroupgap": 0
        },
        "scene": {
         "domain": {
          "x": [
           0,
           1
          ],
          "y": [
           0,
           1
          ]
         },
         "xaxis": {
          "title": {
           "text": "feature_1"
          }
         },
         "yaxis": {
          "title": {
           "text": "feature_2"
          }
         },
         "zaxis": {
          "title": {
           "text": "target"
          }
         }
        },
        "template": {
         "data": {
          "bar": [
           {
            "error_x": {
             "color": "#2a3f5f"
            },
            "error_y": {
             "color": "#2a3f5f"
            },
            "marker": {
             "line": {
              "color": "#E5ECF6",
              "width": 0.5
             },
             "pattern": {
              "fillmode": "overlay",
              "size": 10,
              "solidity": 0.2
             }
            },
            "type": "bar"
           }
          ],
          "barpolar": [
           {
            "marker": {
             "line": {
              "color": "#E5ECF6",
              "width": 0.5
             },
             "pattern": {
              "fillmode": "overlay",
              "size": 10,
              "solidity": 0.2
             }
            },
            "type": "barpolar"
           }
          ],
          "carpet": [
           {
            "aaxis": {
             "endlinecolor": "#2a3f5f",
             "gridcolor": "white",
             "linecolor": "white",
             "minorgridcolor": "white",
             "startlinecolor": "#2a3f5f"
            },
            "baxis": {
             "endlinecolor": "#2a3f5f",
             "gridcolor": "white",
             "linecolor": "white",
             "minorgridcolor": "white",
             "startlinecolor": "#2a3f5f"
            },
            "type": "carpet"
           }
          ],
          "choropleth": [
           {
            "colorbar": {
             "outlinewidth": 0,
             "ticks": ""
            },
            "type": "choropleth"
           }
          ],
          "contour": [
           {
            "colorbar": {
             "outlinewidth": 0,
             "ticks": ""
            },
            "colorscale": [
             [
              0,
              "#0d0887"
             ],
             [
              0.1111111111111111,
              "#46039f"
             ],
             [
              0.2222222222222222,
              "#7201a8"
             ],
             [
              0.3333333333333333,
              "#9c179e"
             ],
             [
              0.4444444444444444,
              "#bd3786"
             ],
             [
              0.5555555555555556,
              "#d8576b"
             ],
             [
              0.6666666666666666,
              "#ed7953"
             ],
             [
              0.7777777777777778,
              "#fb9f3a"
             ],
             [
              0.8888888888888888,
              "#fdca26"
             ],
             [
              1,
              "#f0f921"
             ]
            ],
            "type": "contour"
           }
          ],
          "contourcarpet": [
           {
            "colorbar": {
             "outlinewidth": 0,
             "ticks": ""
            },
            "type": "contourcarpet"
           }
          ],
          "heatmap": [
           {
            "colorbar": {
             "outlinewidth": 0,
             "ticks": ""
            },
            "colorscale": [
             [
              0,
              "#0d0887"
             ],
             [
              0.1111111111111111,
              "#46039f"
             ],
             [
              0.2222222222222222,
              "#7201a8"
             ],
             [
              0.3333333333333333,
              "#9c179e"
             ],
             [
              0.4444444444444444,
              "#bd3786"
             ],
             [
              0.5555555555555556,
              "#d8576b"
             ],
             [
              0.6666666666666666,
              "#ed7953"
             ],
             [
              0.7777777777777778,
              "#fb9f3a"
             ],
             [
              0.8888888888888888,
              "#fdca26"
             ],
             [
              1,
              "#f0f921"
             ]
            ],
            "type": "heatmap"
           }
          ],
          "histogram": [
           {
            "marker": {
             "pattern": {
              "fillmode": "overlay",
              "size": 10,
              "solidity": 0.2
             }
            },
            "type": "histogram"
           }
          ],
          "histogram2d": [
           {
            "colorbar": {
             "outlinewidth": 0,
             "ticks": ""
            },
            "colorscale": [
             [
              0,
              "#0d0887"
             ],
             [
              0.1111111111111111,
              "#46039f"
             ],
             [
              0.2222222222222222,
              "#7201a8"
             ],
             [
              0.3333333333333333,
              "#9c179e"
             ],
             [
              0.4444444444444444,
              "#bd3786"
             ],
             [
              0.5555555555555556,
              "#d8576b"
             ],
             [
              0.6666666666666666,
              "#ed7953"
             ],
             [
              0.7777777777777778,
              "#fb9f3a"
             ],
             [
              0.8888888888888888,
              "#fdca26"
             ],
             [
              1,
              "#f0f921"
             ]
            ],
            "type": "histogram2d"
           }
          ],
          "histogram2dcontour": [
           {
            "colorbar": {
             "outlinewidth": 0,
             "ticks": ""
            },
            "colorscale": [
             [
              0,
              "#0d0887"
             ],
             [
              0.1111111111111111,
              "#46039f"
             ],
             [
              0.2222222222222222,
              "#7201a8"
             ],
             [
              0.3333333333333333,
              "#9c179e"
             ],
             [
              0.4444444444444444,
              "#bd3786"
             ],
             [
              0.5555555555555556,
              "#d8576b"
             ],
             [
              0.6666666666666666,
              "#ed7953"
             ],
             [
              0.7777777777777778,
              "#fb9f3a"
             ],
             [
              0.8888888888888888,
              "#fdca26"
             ],
             [
              1,
              "#f0f921"
             ]
            ],
            "type": "histogram2dcontour"
           }
          ],
          "mesh3d": [
           {
            "colorbar": {
             "outlinewidth": 0,
             "ticks": ""
            },
            "type": "mesh3d"
           }
          ],
          "parcoords": [
           {
            "line": {
             "colorbar": {
              "outlinewidth": 0,
              "ticks": ""
             }
            },
            "type": "parcoords"
           }
          ],
          "pie": [
           {
            "automargin": true,
            "type": "pie"
           }
          ],
          "scatter": [
           {
            "fillpattern": {
             "fillmode": "overlay",
             "size": 10,
             "solidity": 0.2
            },
            "type": "scatter"
           }
          ],
          "scatter3d": [
           {
            "line": {
             "colorbar": {
              "outlinewidth": 0,
              "ticks": ""
             }
            },
            "marker": {
             "colorbar": {
              "outlinewidth": 0,
              "ticks": ""
             }
            },
            "type": "scatter3d"
           }
          ],
          "scattercarpet": [
           {
            "marker": {
             "colorbar": {
              "outlinewidth": 0,
              "ticks": ""
             }
            },
            "type": "scattercarpet"
           }
          ],
          "scattergeo": [
           {
            "marker": {
             "colorbar": {
              "outlinewidth": 0,
              "ticks": ""
             }
            },
            "type": "scattergeo"
           }
          ],
          "scattergl": [
           {
            "marker": {
             "colorbar": {
              "outlinewidth": 0,
              "ticks": ""
             }
            },
            "type": "scattergl"
           }
          ],
          "scattermap": [
           {
            "marker": {
             "colorbar": {
              "outlinewidth": 0,
              "ticks": ""
             }
            },
            "type": "scattermap"
           }
          ],
          "scattermapbox": [
           {
            "marker": {
             "colorbar": {
              "outlinewidth": 0,
              "ticks": ""
             }
            },
            "type": "scattermapbox"
           }
          ],
          "scatterpolar": [
           {
            "marker": {
             "colorbar": {
              "outlinewidth": 0,
              "ticks": ""
             }
            },
            "type": "scatterpolar"
           }
          ],
          "scatterpolargl": [
           {
            "marker": {
             "colorbar": {
              "outlinewidth": 0,
              "ticks": ""
             }
            },
            "type": "scatterpolargl"
           }
          ],
          "scatterternary": [
           {
            "marker": {
             "colorbar": {
              "outlinewidth": 0,
              "ticks": ""
             }
            },
            "type": "scatterternary"
           }
          ],
          "surface": [
           {
            "colorbar": {
             "outlinewidth": 0,
             "ticks": ""
            },
            "colorscale": [
             [
              0,
              "#0d0887"
             ],
             [
              0.1111111111111111,
              "#46039f"
             ],
             [
              0.2222222222222222,
              "#7201a8"
             ],
             [
              0.3333333333333333,
              "#9c179e"
             ],
             [
              0.4444444444444444,
              "#bd3786"
             ],
             [
              0.5555555555555556,
              "#d8576b"
             ],
             [
              0.6666666666666666,
              "#ed7953"
             ],
             [
              0.7777777777777778,
              "#fb9f3a"
             ],
             [
              0.8888888888888888,
              "#fdca26"
             ],
             [
              1,
              "#f0f921"
             ]
            ],
            "type": "surface"
           }
          ],
          "table": [
           {
            "cells": {
             "fill": {
              "color": "#EBF0F8"
             },
             "line": {
              "color": "white"
             }
            },
            "header": {
             "fill": {
              "color": "#C8D4E3"
             },
             "line": {
              "color": "white"
             }
            },
            "type": "table"
           }
          ]
         },
         "layout": {
          "annotationdefaults": {
           "arrowcolor": "#2a3f5f",
           "arrowhead": 0,
           "arrowwidth": 1
          },
          "autotypenumbers": "strict",
          "coloraxis": {
           "colorbar": {
            "outlinewidth": 0,
            "ticks": ""
           }
          },
          "colorscale": {
           "diverging": [
            [
             0,
             "#8e0152"
            ],
            [
             0.1,
             "#c51b7d"
            ],
            [
             0.2,
             "#de77ae"
            ],
            [
             0.3,
             "#f1b6da"
            ],
            [
             0.4,
             "#fde0ef"
            ],
            [
             0.5,
             "#f7f7f7"
            ],
            [
             0.6,
             "#e6f5d0"
            ],
            [
             0.7,
             "#b8e186"
            ],
            [
             0.8,
             "#7fbc41"
            ],
            [
             0.9,
             "#4d9221"
            ],
            [
             1,
             "#276419"
            ]
           ],
           "sequential": [
            [
             0,
             "#0d0887"
            ],
            [
             0.1111111111111111,
             "#46039f"
            ],
            [
             0.2222222222222222,
             "#7201a8"
            ],
            [
             0.3333333333333333,
             "#9c179e"
            ],
            [
             0.4444444444444444,
             "#bd3786"
            ],
            [
             0.5555555555555556,
             "#d8576b"
            ],
            [
             0.6666666666666666,
             "#ed7953"
            ],
            [
             0.7777777777777778,
             "#fb9f3a"
            ],
            [
             0.8888888888888888,
             "#fdca26"
            ],
            [
             1,
             "#f0f921"
            ]
           ],
           "sequentialminus": [
            [
             0,
             "#0d0887"
            ],
            [
             0.1111111111111111,
             "#46039f"
            ],
            [
             0.2222222222222222,
             "#7201a8"
            ],
            [
             0.3333333333333333,
             "#9c179e"
            ],
            [
             0.4444444444444444,
             "#bd3786"
            ],
            [
             0.5555555555555556,
             "#d8576b"
            ],
            [
             0.6666666666666666,
             "#ed7953"
            ],
            [
             0.7777777777777778,
             "#fb9f3a"
            ],
            [
             0.8888888888888888,
             "#fdca26"
            ],
            [
             1,
             "#f0f921"
            ]
           ]
          },
          "colorway": [
           "#636efa",
           "#EF553B",
           "#00cc96",
           "#ab63fa",
           "#FFA15A",
           "#19d3f3",
           "#FF6692",
           "#B6E880",
           "#FF97FF",
           "#FECB52"
          ],
          "font": {
           "color": "#2a3f5f"
          },
          "geo": {
           "bgcolor": "white",
           "lakecolor": "white",
           "landcolor": "#E5ECF6",
           "showlakes": true,
           "showland": true,
           "subunitcolor": "white"
          },
          "hoverlabel": {
           "align": "left"
          },
          "hovermode": "closest",
          "mapbox": {
           "style": "light"
          },
          "paper_bgcolor": "white",
          "plot_bgcolor": "#E5ECF6",
          "polar": {
           "angularaxis": {
            "gridcolor": "white",
            "linecolor": "white",
            "ticks": ""
           },
           "bgcolor": "#E5ECF6",
           "radialaxis": {
            "gridcolor": "white",
            "linecolor": "white",
            "ticks": ""
           }
          },
          "scene": {
           "xaxis": {
            "backgroundcolor": "#E5ECF6",
            "gridcolor": "white",
            "gridwidth": 2,
            "linecolor": "white",
            "showbackground": true,
            "ticks": "",
            "zerolinecolor": "white"
           },
           "yaxis": {
            "backgroundcolor": "#E5ECF6",
            "gridcolor": "white",
            "gridwidth": 2,
            "linecolor": "white",
            "showbackground": true,
            "ticks": "",
            "zerolinecolor": "white"
           },
           "zaxis": {
            "backgroundcolor": "#E5ECF6",
            "gridcolor": "white",
            "gridwidth": 2,
            "linecolor": "white",
            "showbackground": true,
            "ticks": "",
            "zerolinecolor": "white"
           }
          },
          "shapedefaults": {
           "line": {
            "color": "#2a3f5f"
           }
          },
          "ternary": {
           "aaxis": {
            "gridcolor": "white",
            "linecolor": "white",
            "ticks": ""
           },
           "baxis": {
            "gridcolor": "white",
            "linecolor": "white",
            "ticks": ""
           },
           "bgcolor": "#E5ECF6",
           "caxis": {
            "gridcolor": "white",
            "linecolor": "white",
            "ticks": ""
           }
          },
          "title": {
           "x": 0.05
          },
          "xaxis": {
           "automargin": true,
           "gridcolor": "white",
           "linecolor": "white",
           "ticks": "",
           "title": {
            "standoff": 15
           },
           "zerolinecolor": "white",
           "zerolinewidth": 2
          },
          "yaxis": {
           "automargin": true,
           "gridcolor": "white",
           "linecolor": "white",
           "ticks": "",
           "title": {
            "standoff": 15
           },
           "zerolinecolor": "white",
           "zerolinewidth": 2
          }
         }
        },
        "title": {
         "text": "3D Scatter Plot of Regression Dataset"
        }
       }
      }
     },
     "metadata": {},
     "output_type": "display_data"
    }
   ],
   "source": [
    "# creating the graph with plotly\n",
    "fig = px.scatter_3d(df, x='feature_1', y='feature_2', z='target', title='3D Scatter Plot of Regression Dataset')\n",
    "fig.update_traces(marker=dict(size=4))  # try 2, 3, or whatever looks good\n",
    "fig.show()"
   ]
  },
  {
   "cell_type": "code",
   "execution_count": null,
   "id": "2a0da823",
   "metadata": {},
   "outputs": [],
   "source": []
  }
 ],
 "metadata": {
  "kernelspec": {
   "display_name": "Python 3",
   "language": "python",
   "name": "python3"
  },
  "language_info": {
   "codemirror_mode": {
    "name": "ipython",
    "version": 3
   },
   "file_extension": ".py",
   "mimetype": "text/x-python",
   "name": "python",
   "nbconvert_exporter": "python",
   "pygments_lexer": "ipython3",
   "version": "3.13.5"
  }
 },
 "nbformat": 4,
 "nbformat_minor": 5
}
