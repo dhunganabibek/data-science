{
 "cells": [
  {
   "cell_type": "markdown",
   "id": "d242f272",
   "metadata": {},
   "source": [
    "## Linear Algebra\n"
   ]
  },
  {
   "cell_type": "markdown",
   "id": "5a65f0e2",
   "metadata": {},
   "source": [
    "Ax = Column Space = C(A)\n",
    "\n",
    "MAtrix multiplication can be thought as dot product if thinking as row operation. Combination of column if thought about column operation\n",
    "\n",
    "C(A) = rank = number of independent column\n",
    "\n",
    "Those independent column will be the basis.\n",
    "\n",
    "Column rank = Row Rank (How to prove this????)\n",
    "\n",
    "Row space => all combination of row => col(A.T)\n",
    "\n",
    "\n",
    "A = CR decomposition\n",
    "C have basis column space and R has basis for row space\n",
    "\n",
    "\n",
    "R is Row reduced echelon form\n",
    "But, if you want to use, actual row, you will need another matrix to make product right.\n",
    "\n",
    "\n",
    "A = CUR\n",
    "\n"
   ]
  },
  {
   "cell_type": "markdown",
   "id": "1960ad03",
   "metadata": {},
   "source": [
    "### Matrix muliplication. \n",
    "\n",
    "1. Obviously inner product (row * column) (basically complexity is n^3)\n",
    "2. Outer product (but you have to add alot of matrix -- complexity  is the same. But thinking about combination of column)\n",
    "\n"
   ]
  },
  {
   "cell_type": "markdown",
   "id": "cb829876",
   "metadata": {},
   "source": []
  }
 ],
 "metadata": {
  "language_info": {
   "name": "python"
  }
 },
 "nbformat": 4,
 "nbformat_minor": 5
}
