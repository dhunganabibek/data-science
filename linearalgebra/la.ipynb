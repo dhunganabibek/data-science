{
 "cells": [
  {
   "cell_type": "markdown",
   "id": "d242f272",
   "metadata": {},
   "source": [
    "## Linear Algebra\n"
   ]
  },
  {
   "cell_type": "markdown",
   "id": "5a65f0e2",
   "metadata": {},
   "source": [
    "Ax = Column Space = C(A)\n",
    "\n",
    "MAtrix multiplication can be thought as dot product if thinking as row operation. Combination of column if thought about column operation\n",
    "\n",
    "C(A) = rank = number of independent column\n",
    "\n",
    "Those independent column will be the basis.\n",
    "\n",
    "Column rank = Row Rank (How to prove this????)"
   ]
  },
  {
   "cell_type": "markdown",
   "id": "1960ad03",
   "metadata": {},
   "source": []
  },
  {
   "cell_type": "markdown",
   "id": "1d7f7876",
   "metadata": {},
   "source": []
  }
 ],
 "metadata": {
  "language_info": {
   "name": "python"
  }
 },
 "nbformat": 4,
 "nbformat_minor": 5
}
