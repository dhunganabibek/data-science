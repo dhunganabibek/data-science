{
 "cells": [
  {
   "cell_type": "markdown",
   "id": "bfe61d8b",
   "metadata": {},
   "source": [
    "# OpenCV"
   ]
  },
  {
   "cell_type": "code",
   "execution_count": 1,
   "id": "d3308fbd",
   "metadata": {},
   "outputs": [],
   "source": [
    "# reading the image\n",
    "import cv2"
   ]
  },
  {
   "cell_type": "code",
   "execution_count": null,
   "id": "5c24bc4b",
   "metadata": {},
   "outputs": [],
   "source": [
    "image = cv2.imread('./image.png', cv2.IMREAD_GRAYSCALE)\n",
    "print(type(image))\n",
    "print(image.shape)\n",
    "\n",
    "image[0][0]\n"
   ]
  },
  {
   "cell_type": "code",
   "execution_count": null,
   "id": "6cb38b76",
   "metadata": {},
   "outputs": [],
   "source": [
    "# displaying the image\n",
    "image = cv2.imread('./image.png',cv2.IMREAD_GRAYSCALE)\n",
    "cv2.imshow(\"IMAGE\", image)\n",
    "cv2.waitKey(0)\n",
    "\n",
    "# saving the image to jpg\n",
    "cv2.imwrite(\"new_image.jpg\", image)"
   ]
  },
  {
   "cell_type": "code",
   "execution_count": 2,
   "id": "6d31e119",
   "metadata": {},
   "outputs": [],
   "source": [
    "image = cv2.imread('./image.png')\n",
    "# image = image[image > 155]\n",
    "cv2.imshow('Image', image)"
   ]
  },
  {
   "cell_type": "code",
   "execution_count": 4,
   "id": "e8b05684",
   "metadata": {},
   "outputs": [
    {
     "name": "stdout",
     "output_type": "stream",
     "text": [
      "C:\\Users\\Dhung\\anaconda3\\python.exe\n"
     ]
    }
   ],
   "source": []
  },
  {
   "cell_type": "code",
   "execution_count": 16,
   "id": "e13d282a-bc91-4056-886f-466e93664c11",
   "metadata": {},
   "outputs": [
    {
     "name": "stdout",
     "output_type": "stream",
     "text": [
      "Requirement already satisfied: numpy in c:\\users\\dhung\\anaconda3\\lib\\site-packages (2.2.6)\n",
      "Note: you may need to restart the kernel to use updated packages.\n"
     ]
    }
   ],
   "source": []
  },
  {
   "cell_type": "code",
   "execution_count": null,
   "id": "17a6ce16-b20b-4761-84a3-29a3d3b22bb2",
   "metadata": {},
   "outputs": [],
   "source": []
  }
 ],
 "metadata": {
  "kernelspec": {
   "display_name": "Python [conda env:base] *",
   "language": "python",
   "name": "conda-base-py"
  },
  "language_info": {
   "codemirror_mode": {
    "name": "ipython",
    "version": 3
   },
   "file_extension": ".py",
   "mimetype": "text/x-python",
   "name": "python",
   "nbconvert_exporter": "python",
   "pygments_lexer": "ipython3",
   "version": "3.12.7"
  }
 },
 "nbformat": 4,
 "nbformat_minor": 5
}
