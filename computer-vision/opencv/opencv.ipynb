{
 "cells": [
  {
   "cell_type": "markdown",
   "id": "bfe61d8b",
   "metadata": {},
   "source": [
    "# OpenCV"
   ]
  },
  {
   "cell_type": "code",
   "execution_count": 3,
   "id": "d3308fbd",
   "metadata": {},
   "outputs": [],
   "source": [
    "# reading the image\n",
    "import cv2"
   ]
  },
  {
   "cell_type": "code",
   "execution_count": 9,
   "id": "5c24bc4b",
   "metadata": {},
   "outputs": [
    {
     "name": "stdout",
     "output_type": "stream",
     "text": [
      "<class 'numpy.ndarray'>\n",
      "(967, 1558)\n"
     ]
    },
    {
     "data": {
      "text/plain": [
       "np.uint8(255)"
      ]
     },
     "execution_count": 9,
     "metadata": {},
     "output_type": "execute_result"
    }
   ],
   "source": [
    "image = cv2.imread('./image.png', cv2.IMREAD_GRAYSCALE)\n",
    "print(type(image))\n",
    "print(image.shape)\n",
    "\n",
    "image[0][0]\n"
   ]
  },
  {
   "cell_type": "code",
   "execution_count": 5,
   "id": "6cb38b76",
   "metadata": {},
   "outputs": [
    {
     "data": {
      "text/plain": [
       "True"
      ]
     },
     "execution_count": 5,
     "metadata": {},
     "output_type": "execute_result"
    }
   ],
   "source": [
    "# displaying the image\n",
    "image = cv2.imread('./image.png',cv2.IMREAD_GRAYSCALE)\n",
    "cv2.imshow(\"IMAGE\", image)\n",
    "cv2.waitKey(0)\n",
    "\n",
    "# saving the image to jpg\n",
    "cv2.imwrite(\"new_image.jpg\", image)"
   ]
  },
  {
   "cell_type": "code",
   "execution_count": null,
   "id": "6d31e119",
   "metadata": {},
   "outputs": [],
   "source": []
  }
 ],
 "metadata": {
  "kernelspec": {
   "display_name": "Python 3",
   "language": "python",
   "name": "python3"
  },
  "language_info": {
   "codemirror_mode": {
    "name": "ipython",
    "version": 3
   },
   "file_extension": ".py",
   "mimetype": "text/x-python",
   "name": "python",
   "nbconvert_exporter": "python",
   "pygments_lexer": "ipython3",
   "version": "3.13.5"
  }
 },
 "nbformat": 4,
 "nbformat_minor": 5
}
