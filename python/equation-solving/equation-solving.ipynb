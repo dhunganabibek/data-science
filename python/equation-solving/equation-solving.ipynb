{
 "cells": [
  {
   "cell_type": "markdown",
   "id": "ba85743d",
   "metadata": {},
   "source": [
    "# Equation Solving"
   ]
  },
  {
   "cell_type": "markdown",
   "id": "d170fea4",
   "metadata": {},
   "source": []
  }
 ],
 "metadata": {
  "language_info": {
   "name": "python"
  }
 },
 "nbformat": 4,
 "nbformat_minor": 5
}
