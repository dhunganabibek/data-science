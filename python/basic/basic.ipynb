{
 "cells": [
  {
   "cell_type": "markdown",
   "id": "529becce",
   "metadata": {},
   "source": [
    "# Python Basics"
   ]
  },
  {
   "cell_type": "code",
   "execution_count": 24,
   "id": "c6a60b2a",
   "metadata": {},
   "outputs": [
    {
     "name": "stdout",
     "output_type": "stream",
     "text": [
      "<class 'int'>\n",
      "<class 'str'>\n",
      "<class 'bool'>\n",
      "<class 'float'>\n",
      "<class 'complex'>\n",
      "<class 'NoneType'>\n"
     ]
    }
   ],
   "source": [
    "a = 1077778836738736\n",
    "b = \"test\"\n",
    "c = True \n",
    "d = 10.299999999999\n",
    "e = 2 + 4j\n",
    "f = None\n",
    "\n",
    "print(type(a))\n",
    "print(type(b))\n",
    "print(type(c))\n",
    "print(type(d))\n",
    "print(type(e))\n",
    "print(type(f))\n"
   ]
  },
  {
   "cell_type": "markdown",
   "id": "f3babf30",
   "metadata": {},
   "source": [
    " numeric types --  int, float, complex  \n",
    " Boolean type -- True, False  \n",
    " Sequence Type -- str, list, range, set, dict  "
   ]
  },
  {
   "cell_type": "code",
   "execution_count": 23,
   "id": "32d93597",
   "metadata": {},
   "outputs": [
    {
     "name": "stdout",
     "output_type": "stream",
     "text": [
      "<class 'list'>\n"
     ]
    }
   ],
   "source": [
    "l = [1,2,3,4,\"test\",True,3.14,2+3j,None]\n",
    "print(type(l))"
   ]
  },
  {
   "cell_type": "code",
   "execution_count": 22,
   "id": "cd81fc97",
   "metadata": {},
   "outputs": [
    {
     "name": "stdout",
     "output_type": "stream",
     "text": [
      "{None, 1, 2, 3, 4, 3.14, (2+3j), 'test'}\n",
      "<class 'set'>\n"
     ]
    }
   ],
   "source": [
    "s = {1,2,3,4,\"test\",True,3.14,2+3j,None,1,2,3,4}\n",
    "print(s)\n",
    "print(type(s))"
   ]
  },
  {
   "cell_type": "code",
   "execution_count": 21,
   "id": "6eb5aba7",
   "metadata": {},
   "outputs": [
    {
     "name": "stdout",
     "output_type": "stream",
     "text": [
      "hello test\n",
      "ArithmeticError\n",
      "AssertionError\n",
      "AttributeError\n"
     ]
    }
   ],
   "source": [
    "# string\n",
    "s = \"test\"\n",
    "a = f\"hello {s}\"\n",
    "print(a)\n",
    "\n",
    "ml = \"\"\"ArithmeticError\n",
    "AssertionError\n",
    "AttributeError\"\"\"\n",
    "\n",
    "print(ml)\n",
    "\n"
   ]
  },
  {
   "cell_type": "code",
   "execution_count": null,
   "id": "e72eee67",
   "metadata": {},
   "outputs": [],
   "source": [
    "# dictionary"
   ]
  }
 ],
 "metadata": {
  "kernelspec": {
   "display_name": "Python 3",
   "language": "python",
   "name": "python3"
  },
  "language_info": {
   "codemirror_mode": {
    "name": "ipython",
    "version": 3
   },
   "file_extension": ".py",
   "mimetype": "text/x-python",
   "name": "python",
   "nbconvert_exporter": "python",
   "pygments_lexer": "ipython3",
   "version": "3.13.5"
  }
 },
 "nbformat": 4,
 "nbformat_minor": 5
}
