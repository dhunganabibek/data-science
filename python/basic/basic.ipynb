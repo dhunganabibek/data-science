{
 "cells": [
  {
   "cell_type": "markdown",
   "id": "529becce",
   "metadata": {},
   "source": [
    "# Python Basics"
   ]
  },
  {
   "cell_type": "code",
   "execution_count": 24,
   "id": "c6a60b2a",
   "metadata": {},
   "outputs": [
    {
     "name": "stdout",
     "output_type": "stream",
     "text": [
      "<class 'int'>\n",
      "<class 'str'>\n",
      "<class 'bool'>\n",
      "<class 'float'>\n",
      "<class 'complex'>\n",
      "<class 'NoneType'>\n"
     ]
    }
   ],
   "source": [
    "a = 1077778836738736\n",
    "b = \"test\"\n",
    "c = True \n",
    "d = 10.299999999999\n",
    "e = 2 + 4j\n",
    "f = None\n",
    "\n",
    "print(type(a))\n",
    "print(type(b))\n",
    "print(type(c))\n",
    "print(type(d))\n",
    "print(type(e))\n",
    "print(type(f))\n"
   ]
  },
  {
   "cell_type": "markdown",
   "id": "f3babf30",
   "metadata": {},
   "source": [
    " numeric types --  int, float, complex  \n",
    " Boolean type -- True, False  \n",
    " Sequence Type -- str, list, range, set, dict  "
   ]
  },
  {
   "cell_type": "code",
   "execution_count": 23,
   "id": "32d93597",
   "metadata": {},
   "outputs": [
    {
     "name": "stdout",
     "output_type": "stream",
     "text": [
      "<class 'list'>\n"
     ]
    }
   ],
   "source": [
    "l = [1,2,3,4,\"test\",True,3.14,2+3j,None]\n",
    "print(type(l))"
   ]
  },
  {
   "cell_type": "code",
   "execution_count": 22,
   "id": "cd81fc97",
   "metadata": {},
   "outputs": [
    {
     "name": "stdout",
     "output_type": "stream",
     "text": [
      "{None, 1, 2, 3, 4, 3.14, (2+3j), 'test'}\n",
      "<class 'set'>\n"
     ]
    }
   ],
   "source": [
    "s = {1,2,3,4,\"test\",True,3.14,2+3j,None,1,2,3,4}\n",
    "print(s)\n",
    "print(type(s))"
   ]
  },
  {
   "cell_type": "code",
   "execution_count": 25,
   "id": "6eb5aba7",
   "metadata": {},
   "outputs": [
    {
     "name": "stdout",
     "output_type": "stream",
     "text": [
      "hello test\n",
      "ArithmeticError\n",
      "AssertionError\n",
      "AttributeError\n"
     ]
    }
   ],
   "source": [
    "# string\n",
    "s = \"test\"\n",
    "a = f\"hello {s}\"\n",
    "print(a)\n",
    "\n",
    "ml = \"\"\"ArithmeticError\n",
    "AssertionError\n",
    "AttributeError\"\"\"\n",
    "\n",
    "print(ml)\n",
    "\n"
   ]
  },
  {
   "cell_type": "code",
   "execution_count": 28,
   "id": "e72eee67",
   "metadata": {},
   "outputs": [
    {
     "name": "stdout",
     "output_type": "stream",
     "text": [
      "{'key1': 'value1', 'key2': 'value2'}\n",
      "<class 'dict'>\n"
     ]
    }
   ],
   "source": [
    "# dictionary\n",
    "d = {\"key1\": \"value1\",\n",
    "    \"key2\": \"value2\"}\n",
    "print(d)\n",
    "print(type(d))"
   ]
  },
  {
   "cell_type": "code",
   "execution_count": 39,
   "id": "f04d2730",
   "metadata": {},
   "outputs": [
    {
     "data": {
      "text/plain": [
       "9"
      ]
     },
     "execution_count": 39,
     "metadata": {},
     "output_type": "execute_result"
    }
   ],
   "source": [
    "# collections\n",
    "name = \"test\"\n",
    "random_tuple = (1,2,3,4,\"test\",True,3.14,2+3j,None)\n",
    "random_list = [1,2,3,4,\"test\",True,3.14,2+3j,None]\n",
    "random_set = {1,2,3,4,\"test\",True,3.14,2+3j,None,1,2,3,4}\n",
    "random_dict = {\"key1\": \"value1\",\n",
    "    \"key2\": \"value2\"}\n",
    "\n",
    "'5' in name\n",
    "range(1,10)\n",
    "len(random_list)"
   ]
  },
  {
   "cell_type": "code",
   "execution_count": 36,
   "id": "dad8744e",
   "metadata": {},
   "outputs": [
    {
     "name": "stdout",
     "output_type": "stream",
     "text": [
      "1\n",
      "2\n",
      "3\n",
      "4\n",
      "5\n",
      "6\n",
      "7\n",
      "8\n",
      "9\n"
     ]
    }
   ],
   "source": [
    "# loop \n",
    "for i in range(1,10):\n",
    "    print(i)"
   ]
  },
  {
   "cell_type": "code",
   "execution_count": 41,
   "id": "81ec5539",
   "metadata": {},
   "outputs": [
    {
     "name": "stdout",
     "output_type": "stream",
     "text": [
      "20\n",
      "10\n"
     ]
    }
   ],
   "source": [
    "# test\n",
    "a = 10\n",
    "b = 20\n",
    "\n",
    "b, a = a, b\n",
    "print(a)\n",
    "print(b)\n"
   ]
  },
  {
   "cell_type": "code",
   "execution_count": 49,
   "id": "c7e78ee2",
   "metadata": {},
   "outputs": [
    {
     "name": "stdout",
     "output_type": "stream",
     "text": [
      "1\n",
      "4\n",
      "9\n",
      "16\n",
      "25\n"
     ]
    }
   ],
   "source": [
    "# list\n",
    "l = [1, 2, 3, 4, 5]\n",
    "\n",
    "# make list of square of numbers(list comprehension)\n",
    "nl = (i*i for i in l)\n",
    "for i in nl:\n",
    "    print(i)"
   ]
  },
  {
   "cell_type": "code",
   "execution_count": null,
   "id": "fe125f67",
   "metadata": {},
   "outputs": [
    {
     "data": {
      "text/plain": [
       "11"
      ]
     },
     "execution_count": 17,
     "metadata": {},
     "output_type": "execute_result"
    }
   ],
   "source": [
    "# linear search\n",
    "input_list = [1,2,3,4,5,6,7,8,9,10,11,14]\n",
    "search_item = 99\n",
    "\n",
    "def linear_search(input_list, search_item):\n",
    "    found = False\n",
    "    index = None\n",
    "    for i,item in enumerate(input_list):\n",
    "        if item == search_item:\n",
    "            found = True\n",
    "            print(found)\n",
    "            return i\n",
    "    return index\n",
    "\n",
    "linear_search(search_item=search_item, input_list=input_list)\n",
    "\n"
   ]
  },
  {
   "cell_type": "code",
   "execution_count": null,
   "id": "f958ebeb",
   "metadata": {},
   "outputs": [],
   "source": []
  },
  {
   "cell_type": "code",
   "execution_count": null,
   "id": "2f97fd48",
   "metadata": {},
   "outputs": [],
   "source": []
  },
  {
   "cell_type": "code",
   "execution_count": null,
   "id": "5d91e831",
   "metadata": {},
   "outputs": [],
   "source": []
  }
 ],
 "metadata": {
  "kernelspec": {
   "display_name": "Python 3",
   "language": "python",
   "name": "python3"
  },
  "language_info": {
   "codemirror_mode": {
    "name": "ipython",
    "version": 3
   },
   "file_extension": ".py",
   "mimetype": "text/x-python",
   "name": "python",
   "nbconvert_exporter": "python",
   "pygments_lexer": "ipython3",
   "version": "3.13.5"
  }
 },
 "nbformat": 4,
 "nbformat_minor": 5
}
