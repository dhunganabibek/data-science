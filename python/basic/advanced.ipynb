{
 "cells": [
  {
   "cell_type": "markdown",
   "id": "bbbf9820",
   "metadata": {},
   "source": [
    "# Advanced Python"
   ]
  },
  {
   "cell_type": "code",
   "execution_count": 13,
   "id": "0563a3f3",
   "metadata": {},
   "outputs": [
    {
     "name": "stdout",
     "output_type": "stream",
     "text": [
      "If you can dream - and not make dreams your master;\n",
      "If you can think - and not make thoughts your aim\n",
      "\n",
      "If you can meet with Triumph and Disaster\n",
      "And treat those two impostors just the same;\n",
      "\n",
      "If you can bear to hear the truth you've spoken\n",
      "Twisted by knaves to make a trap for fools,\n",
      "Or watch the things you gave your life to, broken,\n",
      "\n",
      "\n",
      "\n",
      "And stoop and build 'em up with worn-out tools:\n",
      "\n",
      "\n"
     ]
    }
   ],
   "source": [
    "# reading from the file\n",
    "with open('test.txt', 'rt') as file:\n",
    "    data = file.read()\n",
    "    print(data)\n"
   ]
  },
  {
   "cell_type": "code",
   "execution_count": 30,
   "id": "2e506500",
   "metadata": {},
   "outputs": [
    {
     "name": "stdout",
     "output_type": "stream",
     "text": [
      "IF YOU CAN DREAM - AND NOT MAKE DREAMS YOUR MASTER;\n",
      "\n",
      "IF YOU CAN THINK - AND NOT MAKE THOUGHTS YOUR AIM\n",
      "\n",
      "\n",
      "\n",
      "IF YOU CAN MEET WITH TRIUMPH AND DISASTER\n",
      "\n",
      "AND TREAT THOSE TWO IMPOSTORS JUST THE SAME;\n",
      "\n",
      "\n",
      "\n",
      "IF YOU CAN BEAR TO HEAR THE TRUTH YOU'VE SPOKEN\n",
      "\n",
      "TWISTED BY KNAVES TO MAKE A TRAP FOR FOOLS,\n",
      "\n",
      "OR WATCH THE THINGS YOU GAVE YOUR LIFE TO, BROKEN,\n",
      "\n",
      "AND STOOP AND BUILD 'EM UP WITH WORN-OUT TOOLS:\n",
      "\n",
      "\n",
      "\n"
     ]
    }
   ],
   "source": [
    "# reading from the file\n",
    "with open('test.txt', 'rt') as f:\n",
    "    for line in f:\n",
    "        print(line.upper())\n"
   ]
  },
  {
   "cell_type": "code",
   "execution_count": 29,
   "id": "76476dea",
   "metadata": {},
   "outputs": [],
   "source": [
    "#write to the file\n",
    "with open('output.txt', 'at') as file:\n",
    "    file.write('test')\n",
    "    file.write('\\n')\n",
    "    file.write('Hello')"
   ]
  },
  {
   "cell_type": "code",
   "execution_count": 46,
   "id": "ae556cec",
   "metadata": {},
   "outputs": [
    {
     "name": "stdout",
     "output_type": "stream",
     "text": [
      "The number of words is 76\n"
     ]
    }
   ],
   "source": [
    "# reading from the file\n",
    "with open('test.txt') as f:\n",
    "    data = f.read()\n",
    "    num_of_words = len(data.split())\n",
    "    print(f'The number of words is {num_of_words}')"
   ]
  },
  {
   "cell_type": "code",
   "execution_count": 49,
   "id": "17c8ec40",
   "metadata": {},
   "outputs": [
    {
     "data": {
      "text/plain": [
       "'bibek'"
      ]
     },
     "execution_count": 49,
     "metadata": {},
     "output_type": "execute_result"
    }
   ],
   "source": [
    "# split string to list\n",
    "# list to string\n",
    "l = ['b', 'i', 'b', 'e','k']\n",
    "\n",
    "''.join(l)"
   ]
  },
  {
   "cell_type": "code",
   "execution_count": 69,
   "id": "486f02fe",
   "metadata": {},
   "outputs": [
    {
     "name": "stdout",
     "output_type": "stream",
     "text": [
      "True\n"
     ]
    }
   ],
   "source": [
    "# palindrome\n",
    "input = 'Toot toot      Toot'\n",
    "backward = ''\n",
    "\n",
    "sanitized_input = input.replace(' ', '').lower()\n",
    "\n",
    "for char in sanitized_input:\n",
    "    backward = char + backward\n",
    " \n",
    "print(True if sanitized_input == backward else False)\n"
   ]
  },
  {
   "cell_type": "code",
   "execution_count": null,
   "id": "a12f5cb0",
   "metadata": {},
   "outputs": [
    {
     "data": {
      "text/plain": [
       "86179"
      ]
     },
     "execution_count": 101,
     "metadata": {},
     "output_type": "execute_result"
    }
   ],
   "source": [
    "# reading a  image\n",
    "import random\n",
    "with open('./image.png', 'rb') as image:\n",
    "    data = image.read()\n",
    "    list_data = list(data)\n",
    "    for data, index in enumerate(list_data):\n",
    "        if index > 100:\n",
    "            list_data[index] =  list_data[index] + 1 if list_data[index] < 255 else random.randint(1,100)\n",
    "    new_data = bytes(list_data)\n",
    "\n",
    "with open('modified.png','wb') as image:\n",
    "    image.write(new_data)\n",
    "    \n",
    "\n",
    "len(list_data)"
   ]
  },
  {
   "cell_type": "markdown",
   "id": "2dbfcbda",
   "metadata": {},
   "source": [
    "byte = 8\n",
    "00000000 = 0\n",
    "11111111 = 255"
   ]
  },
  {
   "cell_type": "code",
   "execution_count": null,
   "id": "95a03de3",
   "metadata": {},
   "outputs": [],
   "source": []
  }
 ],
 "metadata": {
  "kernelspec": {
   "display_name": "Python 3",
   "language": "python",
   "name": "python3"
  },
  "language_info": {
   "codemirror_mode": {
    "name": "ipython",
    "version": 3
   },
   "file_extension": ".py",
   "mimetype": "text/x-python",
   "name": "python",
   "nbconvert_exporter": "python",
   "pygments_lexer": "ipython3",
   "version": "3.13.5"
  }
 },
 "nbformat": 4,
 "nbformat_minor": 5
}
