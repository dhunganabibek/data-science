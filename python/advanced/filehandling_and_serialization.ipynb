{
 "cells": [
  {
   "cell_type": "markdown",
   "id": "fce5910e",
   "metadata": {},
   "source": [
    "Types of file:\n",
    "1. Text file\n",
    "2. Binary File"
   ]
  },
  {
   "cell_type": "code",
   "execution_count": 8,
   "id": "06efd920",
   "metadata": {},
   "outputs": [],
   "source": [
    "#opening file in write mode and writing test data\n",
    "f = open('assets/sample.txt', 'w')\n",
    "f.write('This is test file!!!')\n",
    "f.close()"
   ]
  },
  {
   "cell_type": "code",
   "execution_count": 13,
   "id": "3676d631",
   "metadata": {},
   "outputs": [],
   "source": [
    "# writing multiple lines to a file\n",
    "f = open('assets/sample1.txt', 'w')\n",
    "f.write('This is test file!!!\\n')\n",
    "f.write('This is second line!!!\\n')\n",
    "f.close()"
   ]
  },
  {
   "cell_type": "code",
   "execution_count": 14,
   "id": "bbebdb44",
   "metadata": {},
   "outputs": [],
   "source": [
    "# appending to the file\n",
    "f = open('assets/sample1.txt', 'a')\n",
    "f.write('This is appended line!!!\\n')\n",
    "f.write('This is another appended line!!!\\n')\n",
    "f.close()"
   ]
  },
  {
   "cell_type": "code",
   "execution_count": 17,
   "id": "a5e4066d",
   "metadata": {},
   "outputs": [
    {
     "name": "stdout",
     "output_type": "stream",
     "text": [
      "This is test file!!!\n",
      "This is second line!!!\n",
      "This is appended line!!!\n",
      "This is another appended line!!!\n",
      "\n"
     ]
    }
   ],
   "source": [
    "# reading from the file\n",
    "f = open('assets/sample1.txt', 'r')\n",
    "print(f.read())  # read the entire file\n"
   ]
  },
  {
   "cell_type": "code",
   "execution_count": null,
   "id": "534dd3c7",
   "metadata": {},
   "outputs": [
    {
     "name": "stdout",
     "output_type": "stream",
     "text": [
      "This is test file!!!\n",
      "\n",
      "This is second line!!!\n",
      "\n"
     ]
    }
   ],
   "source": [
    "# read line by line (readline and print new line)\n",
    "f = open('assets/sample1.txt', 'r')\n",
    "print(f.readline(), end='')  # read first line\n",
    "print(f.readline(), end='')  # read second line"
   ]
  },
  {
   "cell_type": "code",
   "execution_count": null,
   "id": "7190b543",
   "metadata": {},
   "outputs": [
    {
     "name": "stdout",
     "output_type": "stream",
     "text": [
      "This is second line!!!\n",
      "This is appended line!!!\n"
     ]
    }
   ],
   "source": [
    "# read line by line (This a bug because it reads two lines at a time)\n",
    "f = open('assets/sample1.txt', 'r')\n",
    "while f.readline() != '':\n",
    "    print(f.readline(), end='')  "
   ]
  },
  {
   "cell_type": "code",
   "execution_count": 33,
   "id": "f75db08a",
   "metadata": {},
   "outputs": [
    {
     "name": "stdout",
     "output_type": "stream",
     "text": [
      "This is t\n",
      "est file!\n",
      "!!\n",
      "This is second line!!!\n",
      "This is appended line!!!\n",
      "This is another appended line!!!\n",
      "\n"
     ]
    }
   ],
   "source": [
    "# read from the file in chuck (\\n is also one character)\n",
    "f = open('assets/sample1.txt', 'r')\n",
    "print(f.read(9))\n",
    "print(f.read(9))\n",
    "print(f.read(9000))"
   ]
  },
  {
   "cell_type": "code",
   "execution_count": null,
   "id": "66f92801",
   "metadata": {},
   "outputs": [],
   "source": []
  },
  {
   "cell_type": "markdown",
   "id": "082f69a3",
   "metadata": {},
   "source": [
    "### Seek and tell:\n",
    "tell: show current position of the file pointer in bytes  \n",
    "seek: move the file pointer ro specific position  "
   ]
  },
  {
   "cell_type": "code",
   "execution_count": null,
   "id": "fce329c7",
   "metadata": {},
   "outputs": [],
   "source": []
  }
 ],
 "metadata": {
  "kernelspec": {
   "display_name": "Python 3",
   "language": "python",
   "name": "python3"
  },
  "language_info": {
   "codemirror_mode": {
    "name": "ipython",
    "version": 3
   },
   "file_extension": ".py",
   "mimetype": "text/x-python",
   "name": "python",
   "nbconvert_exporter": "python",
   "pygments_lexer": "ipython3",
   "version": "3.13.1"
  }
 },
 "nbformat": 4,
 "nbformat_minor": 5
}
