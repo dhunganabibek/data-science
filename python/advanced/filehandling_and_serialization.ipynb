{
 "cells": [
  {
   "cell_type": "markdown",
   "id": "fce5910e",
   "metadata": {},
   "source": [
    "Types of file:\n",
    "1. Text file\n",
    "2. Binary File"
   ]
  },
  {
   "cell_type": "markdown",
   "id": "4265b8fd",
   "metadata": {},
   "source": []
  }
 ],
 "metadata": {
  "kernelspec": {
   "display_name": "Python 3",
   "language": "python",
   "name": "python3"
  },
  "language_info": {
   "name": "python",
   "version": "3.13.1"
  }
 },
 "nbformat": 4,
 "nbformat_minor": 5
}
