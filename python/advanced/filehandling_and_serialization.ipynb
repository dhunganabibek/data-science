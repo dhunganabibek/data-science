{
 "cells": [
  {
   "cell_type": "markdown",
   "id": "fce5910e",
   "metadata": {},
   "source": [
    "Types of file:\n",
    "1. Text file\n",
    "2. Binary File"
   ]
  },
  {
   "cell_type": "code",
   "execution_count": 82,
   "id": "06efd920",
   "metadata": {},
   "outputs": [],
   "source": [
    "#opening file in write mode and writing test data\n",
    "f = open('assets/sample.txt', 'w')\n",
    "f.write('This is test file!!!')\n",
    "f.close()"
   ]
  },
  {
   "cell_type": "code",
   "execution_count": 83,
   "id": "3676d631",
   "metadata": {},
   "outputs": [],
   "source": [
    "# writing multiple lines to a file\n",
    "f = open('assets/sample1.txt', 'w')\n",
    "f.write('This is test file!!!\\n')\n",
    "f.write('This is second line!!!\\n')\n",
    "f.close()"
   ]
  },
  {
   "cell_type": "code",
   "execution_count": 84,
   "id": "bbebdb44",
   "metadata": {},
   "outputs": [],
   "source": [
    "# appending to the file\n",
    "f = open('assets/sample1.txt', 'a')\n",
    "f.write('This is appended line!!!\\n')\n",
    "f.write('This is another appended line!!!\\n')\n",
    "f.close()"
   ]
  },
  {
   "cell_type": "code",
   "execution_count": 85,
   "id": "a5e4066d",
   "metadata": {},
   "outputs": [
    {
     "name": "stdout",
     "output_type": "stream",
     "text": [
      "This is test file!!!\n",
      "This is second line!!!\n",
      "This is appended line!!!\n",
      "This is another appended line!!!\n",
      "\n"
     ]
    }
   ],
   "source": [
    "# reading from the file\n",
    "f = open('assets/sample1.txt', 'r')\n",
    "print(f.read())  # read the entire file\n"
   ]
  },
  {
   "cell_type": "code",
   "execution_count": 86,
   "id": "534dd3c7",
   "metadata": {},
   "outputs": [
    {
     "name": "stdout",
     "output_type": "stream",
     "text": [
      "This is test file!!!\n",
      "This is second line!!!\n"
     ]
    }
   ],
   "source": [
    "# read line by line (readline and print new line)\n",
    "f = open('assets/sample1.txt', 'r')\n",
    "print(f.readline(), end='')  # read first line\n",
    "print(f.readline(), end='')  # read second line"
   ]
  },
  {
   "cell_type": "code",
   "execution_count": 87,
   "id": "7190b543",
   "metadata": {},
   "outputs": [
    {
     "name": "stdout",
     "output_type": "stream",
     "text": [
      "This is second line!!!\n",
      "This is another appended line!!!\n"
     ]
    }
   ],
   "source": [
    "# read line by line (This a bug because it reads two lines at a time)\n",
    "f = open('assets/sample1.txt', 'r')\n",
    "while f.readline() != '':\n",
    "    print(f.readline(), end='')  "
   ]
  },
  {
   "cell_type": "code",
   "execution_count": 88,
   "id": "f75db08a",
   "metadata": {},
   "outputs": [
    {
     "name": "stdout",
     "output_type": "stream",
     "text": [
      "This is t\n",
      "est file!\n",
      "!!\n",
      "This is second line!!!\n",
      "This is appended line!!!\n",
      "This is another appended line!!!\n",
      "\n"
     ]
    }
   ],
   "source": [
    "# read from the file in chuck (\\n is also one character)\n",
    "f = open('assets/sample1.txt', 'r')\n",
    "print(f.read(9))\n",
    "print(f.read(9))\n",
    "print(f.read(9000))"
   ]
  },
  {
   "cell_type": "markdown",
   "id": "082f69a3",
   "metadata": {},
   "source": [
    "### Seek and tell:\n",
    "tell: show current position of the file pointer in bytes  \n",
    "seek: move the file pointer ro specific position  "
   ]
  },
  {
   "cell_type": "code",
   "execution_count": 89,
   "id": "fce329c7",
   "metadata": {},
   "outputs": [
    {
     "name": "stdout",
     "output_type": "stream",
     "text": [
      "0\n",
      "This is t\n",
      "9\n"
     ]
    }
   ],
   "source": [
    "with open('assets/sample1.txt', 'r') as f:\n",
    "    print(f.tell()) # get current position in the file\n",
    "    print(f.read(9))  # read first 9 characters\n",
    "    print(f.tell())  # get current position in the file"
   ]
  },
  {
   "cell_type": "code",
   "execution_count": 90,
   "id": "94fc4a30",
   "metadata": {},
   "outputs": [
    {
     "name": "stdout",
     "output_type": "stream",
     "text": [
      "<class 'bytes'>\n",
      "b'\\x89PNG\\r\\n\\x1a\\n\\x00\\x00'\n",
      "89504e470d0a1a0a0000\n",
      "137 80 78 71 13 10 26 10 0 0 "
     ]
    }
   ],
   "source": [
    "# working with binary files\n",
    "with open('assets/image.png', 'rb') as f:\n",
    "    data = f.read(10)  # read first 9 characters (this will not work for binary files)\n",
    "    print(type(data))  # <class 'bytes'>\n",
    "    print(data) # prints the binary data as characters\n",
    "    print(data.hex())  # prints the hexadecimal respresentation of the binary data\n",
    "    \n",
    "    for byte in data:\n",
    "        print(byte, end=' ')\n",
    "    "
   ]
  },
  {
   "cell_type": "code",
   "execution_count": 101,
   "id": "acef6dae",
   "metadata": {},
   "outputs": [],
   "source": [
    "# read the file in binary mode and print each byte\n",
    "with open('assets/image.png', 'rb') as f:\n",
    "    byte = f.read(1)  # read one byte at a time\n",
    "    while byte:\n",
    "        byte = f.read(1)  # read next byte"
   ]
  },
  {
   "cell_type": "code",
   "execution_count": 92,
   "id": "b6243a32",
   "metadata": {},
   "outputs": [],
   "source": [
    "# fun exercise mofifying the magic number of a PNG file\n",
    "# png files start with the magic number 89 50 4E 47 0D 0A 1A 0A\n",
    "with open('assets/image.png', 'rb') as f:\n",
    "    data = f.read()  # read the entire file\n",
    "    modified_data = bytearray(data)  \n",
    "    modified_data[0] = 0x88  # change the first byte of the magic number\n",
    "    with open('assets/image_modified.png', 'wb') as f_out:\n",
    "        f_out.write(modified_data)\n",
    "    "
   ]
  },
  {
   "cell_type": "markdown",
   "id": "089af978",
   "metadata": {},
   "source": [
    "### serializing and deserializing\n",
    "Serialization = Converting an object into a byte stream  \n",
    "Deserialization = Converting a byte stream into an object  "
   ]
  },
  {
   "cell_type": "code",
   "execution_count": 93,
   "id": "4928f8f2",
   "metadata": {},
   "outputs": [],
   "source": [
    "# serialization the list\n",
    "import json\n",
    "\n",
    "l = [1, 2, 3, 4, 5]\n",
    "\n",
    "with open('assets/sample.json', 'w') as f:\n",
    "    json.dump(l, f)  \n"
   ]
  },
  {
   "cell_type": "code",
   "execution_count": 94,
   "id": "88ad5463",
   "metadata": {},
   "outputs": [],
   "source": [
    "# serializing the dictionary into json\n",
    "import json\n",
    "\n",
    "d = {'name': 'John', 'age': 30, 'city': 'New York'}\n",
    "\n",
    "with open('assets/sample.json', 'w') as f:\n",
    "    json.dump(d, f, indent=4)  # write the dictionary to the file in JSON format"
   ]
  },
  {
   "cell_type": "code",
   "execution_count": 95,
   "id": "3dbe2f4b",
   "metadata": {},
   "outputs": [
    {
     "name": "stdout",
     "output_type": "stream",
     "text": [
      "{'name': 'John', 'age': 30, 'city': 'New York'}\n"
     ]
    }
   ],
   "source": [
    "# deserializing the json file\n",
    "with open('assets/sample.json', 'r') as f:\n",
    "    data = json.load(f)  # read the JSON data from the file\n",
    "    print(data)"
   ]
  },
  {
   "cell_type": "code",
   "execution_count": 96,
   "id": "d1b6d4a8",
   "metadata": {},
   "outputs": [
    {
     "name": "stdout",
     "output_type": "stream",
     "text": [
      "[1, 2, 3, 4, 5]\n"
     ]
    }
   ],
   "source": [
    "# serializing a tuple to JSON format\n",
    "a = (1, 2, 3, 4, 5)\n",
    "json_data = json.dumps(a)  # serialize the tuple to JSON format\n",
    "print(json_data)  # prints the JSON representation of the tuple\n",
    "\n",
    "b = {1,2,3,4,5} # set"
   ]
  },
  {
   "cell_type": "markdown",
   "id": "c51c4569",
   "metadata": {},
   "source": [
    "### serialize the class into json\n",
    "have top create a custom fucntion to that, but this is converting the object to text format like json\n"
   ]
  },
  {
   "cell_type": "code",
   "execution_count": 97,
   "id": "02fca96a",
   "metadata": {},
   "outputs": [
    {
     "name": "stdout",
     "output_type": "stream",
     "text": [
      "{\n",
      "    \"name\": \"John\",\n",
      "    \"age\": 30\n",
      "}\n"
     ]
    }
   ],
   "source": [
    "class Person:\n",
    "    def __init__(self, name, age):\n",
    "        self.name = name\n",
    "        self.age = age\n",
    "    def to_json(self):\n",
    "        return {'name': self.name, 'age': self.age}\n",
    "    def __str__(self):\n",
    "        return f\"Person(name={self.name}, age={self.age})\"\n",
    "p = Person('John', 30)\n",
    "\n",
    "# serializing the custom object to JSON format\n",
    "json_data = json.dumps(p, default=lambda o: o.to_json(), indent=4) \n",
    "print(json_data)  # prints the JSON representation of the custom object"
   ]
  },
  {
   "cell_type": "markdown",
   "id": "34ef89d5",
   "metadata": {},
   "source": [
    "### Pickling\n",
    "converting the python object into byte stream. "
   ]
  },
  {
   "cell_type": "code",
   "execution_count": 98,
   "id": "8de603ca",
   "metadata": {},
   "outputs": [
    {
     "name": "stdout",
     "output_type": "stream",
     "text": [
      "80049535000000000000008c085f5f6d61696e5f5f948c06506572736f6e9493942981947d94288c046e616d65948c044a6f686e948c03616765944b1e75622e\n"
     ]
    }
   ],
   "source": [
    "import pickle\n",
    "\n",
    "p = Person('John', 30)\n",
    "\n",
    "print(pickle.dumps(p).hex())  # serialize the object to a binary format\n",
    "with open('assets/sample.pickle', 'wb') as f:\n",
    "    f.write(pickle.dumps(p))  # serialize the object to a binary format\n",
    "\n"
   ]
  },
  {
   "cell_type": "code",
   "execution_count": 99,
   "id": "66f68ed0",
   "metadata": {},
   "outputs": [
    {
     "name": "stdout",
     "output_type": "stream",
     "text": [
      "Person(name=John, age=30)\n",
      "<class '__main__.Person'>\n",
      "John 30\n"
     ]
    }
   ],
   "source": [
    "# read that pickle file and deserialize it\n",
    "with open('assets/sample.pickle', 'rb') as f:\n",
    "    data = f.read()  # read the binary data from the file\n",
    "    person = pickle.loads(data)  # deserialize the object from the binary data\n",
    "    print(person)  # prints the Person object\n",
    "    print(type(person))  # <class '__main__.Person'>\n",
    "    print(person.name, person.age)  # prints the name and age of the person"
   ]
  },
  {
   "cell_type": "markdown",
   "id": "003fd57d",
   "metadata": {},
   "source": [
    "## bytes object in python\n",
    "It is immutable sequences of bytes (integer from 0-255)"
   ]
  },
  {
   "cell_type": "code",
   "execution_count": 100,
   "id": "8edae968",
   "metadata": {},
   "outputs": [
    {
     "name": "stdout",
     "output_type": "stream",
     "text": [
      "b'hello'\n",
      "b'hello'\n",
      "b'hello'\n",
      "bytearray(b'hello')\n"
     ]
    }
   ],
   "source": [
    "# creating a byte object in Python\n",
    "b1 = b'hello'\n",
    "b2 = bytes([104, 101, 108, 108, 111])  \n",
    "b3 = 'hello'.encode('utf-8')\n",
    "\n",
    "print(b1)  # prints b'hello'\n",
    "print(b2)  # prints b'hello'\n",
    "print(b3)  # prints b'hello'\n",
    "\n",
    "# converting a byte object to bytearray\n",
    "b4 = bytearray(b1)  # convert byte object to bytearray (byte array is mutable)\n",
    "print(b4)  # prints bytearray(b'hello')"
   ]
  },
  {
   "cell_type": "code",
   "execution_count": null,
   "id": "00f2e882",
   "metadata": {},
   "outputs": [],
   "source": []
  }
 ],
 "metadata": {
  "kernelspec": {
   "display_name": "Python 3",
   "language": "python",
   "name": "python3"
  },
  "language_info": {
   "codemirror_mode": {
    "name": "ipython",
    "version": 3
   },
   "file_extension": ".py",
   "mimetype": "text/x-python",
   "name": "python",
   "nbconvert_exporter": "python",
   "pygments_lexer": "ipython3",
   "version": "3.13.1"
  }
 },
 "nbformat": 4,
 "nbformat_minor": 5
}
