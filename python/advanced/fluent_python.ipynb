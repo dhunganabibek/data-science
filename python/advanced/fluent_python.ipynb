{
 "cells": [
  {
   "cell_type": "markdown",
   "id": "d6b5a968",
   "metadata": {},
   "source": [
    "## namd Tuples"
   ]
  },
  {
   "cell_type": "code",
   "execution_count": 79,
   "id": "47063dde",
   "metadata": {},
   "outputs": [
    {
     "ename": "TypeError",
     "evalue": "'list' object is not callable",
     "output_type": "error",
     "traceback": [
      "\u001b[31m---------------------------------------------------------------------------\u001b[39m",
      "\u001b[31mTypeError\u001b[39m                                 Traceback (most recent call last)",
      "\u001b[36mCell\u001b[39m\u001b[36m \u001b[39m\u001b[32mIn[79]\u001b[39m\u001b[32m, line 5\u001b[39m\n\u001b[32m      1\u001b[39m \u001b[38;5;28;01mimport\u001b[39;00m \u001b[34;01mcollections\u001b[39;00m\n\u001b[32m      3\u001b[39m Card = collections.namedtuple(\u001b[33m'\u001b[39m\u001b[33mCard\u001b[39m\u001b[33m'\u001b[39m, [\u001b[33m'\u001b[39m\u001b[33mrank\u001b[39m\u001b[33m'\u001b[39m, \u001b[33m'\u001b[39m\u001b[33msuit\u001b[39m\u001b[33m'\u001b[39m])\n\u001b[32m----> \u001b[39m\u001b[32m5\u001b[39m \u001b[38;5;28;43;01mclass\u001b[39;49;00m\u001b[43m  \u001b[49m\u001b[34;43;01mFrenchDeck\u001b[39;49;00m\u001b[43m:\u001b[49m\n\u001b[32m      6\u001b[39m \u001b[43m    \u001b[49m\u001b[43mranks\u001b[49m\u001b[43m \u001b[49m\u001b[43m=\u001b[49m\u001b[43m \u001b[49m\u001b[43m[\u001b[49m\u001b[38;5;28;43mstr\u001b[39;49m\u001b[43m(\u001b[49m\u001b[43mn\u001b[49m\u001b[43m)\u001b[49m\u001b[43m \u001b[49m\u001b[38;5;28;43;01mfor\u001b[39;49;00m\u001b[43m \u001b[49m\u001b[43mn\u001b[49m\u001b[43m \u001b[49m\u001b[38;5;129;43;01min\u001b[39;49;00m\u001b[43m \u001b[49m\u001b[38;5;28;43mrange\u001b[39;49m\u001b[43m(\u001b[49m\u001b[32;43m2\u001b[39;49m\u001b[43m,\u001b[49m\u001b[43m \u001b[49m\u001b[32;43m11\u001b[39;49m\u001b[43m)\u001b[49m\u001b[43m]\u001b[49m\u001b[43m \u001b[49m\u001b[43m+\u001b[49m\u001b[43m \u001b[49m\u001b[38;5;28;43mlist\u001b[39;49m\u001b[43m(\u001b[49m\u001b[33;43m'\u001b[39;49m\u001b[33;43mJQKA\u001b[39;49m\u001b[33;43m'\u001b[39;49m\u001b[43m)\u001b[49m\n\u001b[32m      7\u001b[39m \u001b[43m    \u001b[49m\u001b[43msuits\u001b[49m\u001b[43m  \u001b[49m\u001b[43m=\u001b[49m\u001b[43m \u001b[49m\u001b[33;43m\"\u001b[39;49m\u001b[33;43mspades diamonds clubs hearts\u001b[39;49m\u001b[33;43m\"\u001b[39;49m\u001b[43m.\u001b[49m\u001b[43msplit\u001b[49m\u001b[43m(\u001b[49m\u001b[43m)\u001b[49m\n",
      "\u001b[36mCell\u001b[39m\u001b[36m \u001b[39m\u001b[32mIn[79]\u001b[39m\u001b[32m, line 6\u001b[39m, in \u001b[36mFrenchDeck\u001b[39m\u001b[34m()\u001b[39m\n\u001b[32m      5\u001b[39m \u001b[38;5;28;01mclass\u001b[39;00m  \u001b[34;01mFrenchDeck\u001b[39;00m:\n\u001b[32m----> \u001b[39m\u001b[32m6\u001b[39m     ranks = [\u001b[38;5;28mstr\u001b[39m(n) \u001b[38;5;28;01mfor\u001b[39;00m n \u001b[38;5;129;01min\u001b[39;00m \u001b[38;5;28mrange\u001b[39m(\u001b[32m2\u001b[39m, \u001b[32m11\u001b[39m)] + \u001b[38;5;28;43mlist\u001b[39;49m\u001b[43m(\u001b[49m\u001b[33;43m'\u001b[39;49m\u001b[33;43mJQKA\u001b[39;49m\u001b[33;43m'\u001b[39;49m\u001b[43m)\u001b[49m\n\u001b[32m      7\u001b[39m     suits  = \u001b[33m\"\u001b[39m\u001b[33mspades diamonds clubs hearts\u001b[39m\u001b[33m\"\u001b[39m.split()\n\u001b[32m      9\u001b[39m     \u001b[38;5;66;03m# constructor to create a deck of cards\u001b[39;00m\n",
      "\u001b[31mTypeError\u001b[39m: 'list' object is not callable"
     ]
    }
   ],
   "source": [
    "import collections\n",
    "\n",
    "Card = collections.namedtuple('Card', ['rank', 'suit'])\n",
    "\n",
    "class  FrenchDeck:\n",
    "    ranks = [str(n) for n in range(2, 11)] + list('JQKA')\n",
    "    suits  = \"spades diamonds clubs hearts\".split()\n",
    "    \n",
    "    # constructor to create a deck of cards\n",
    "    def __init__(self):\n",
    "        self._cards = [Card(rank, suit) for suit in self.suits\n",
    "                       for rank in self.ranks]\n",
    "        \n",
    "    # for indexing and slicing\n",
    "    def __getitem__(self, position):\n",
    "        return self._cards[position]\n",
    "    \n",
    "    # for len function\n",
    "    def __len__(self):\n",
    "        return len(self._cards)\n",
    "    \n",
    "    \n",
    "# creating a deck\n",
    "cards = FrenchDeck()\n",
    "print(len(cards))  # Output: 52\n",
    "# accessing cards by index  \n",
    "print(cards[0])  # Output: Card(rank='2', suit='spades')\n",
    "\n",
    "# slicing the deck\n",
    "print(cards[0:3])  # Output: [Card(rank='2', suit='spades'), Card(rank='3', suit='spades'), Card(rank='4', suit='spades')]\n",
    "\n",
    "# iterating through the deck\n",
    "for card in cards:\n",
    "    print(card)  # Prints each card in the deck\n",
    "    \n",
    "    \n",
    "    \n"
   ]
  },
  {
   "cell_type": "markdown",
   "id": "efa51f94",
   "metadata": {},
   "source": [
    "### Implementing your vector class"
   ]
  },
  {
   "cell_type": "code",
   "execution_count": 80,
   "id": "49e452fd",
   "metadata": {},
   "outputs": [],
   "source": [
    "class Vector:\n",
    "    def __init__(self, x = 0, y = 0):\n",
    "        self.x = x\n",
    "        self.y = y\n",
    "    def __repr__(self):\n",
    "        return f'Vector({self.x!r}, {self.y!r})'\n",
    "    def __abs__(self):\n",
    "        return (self.x ** 2 + self.y ** 2) ** 0.5\n",
    "    def __bool__(self):\n",
    "        return bool(abs(self))\n",
    "    def __add__(self, other):\n",
    "        return Vector(self.x + other.x, self.y + other.y)\n",
    "    def __mul__(self, scalar):\n",
    "        return Vector(self.x * scalar, self.y * scalar)\n"
   ]
  },
  {
   "cell_type": "code",
   "execution_count": 81,
   "id": "c4b44132",
   "metadata": {},
   "outputs": [
    {
     "name": "stdout",
     "output_type": "stream",
     "text": [
      "Vector('3', '4')\n"
     ]
    }
   ],
   "source": [
    "v1 = Vector()\n",
    "v2 = Vector('3', '4')\n",
    "\n",
    "print(v2)"
   ]
  },
  {
   "cell_type": "markdown",
   "id": "ac33f99f",
   "metadata": {},
   "source": [
    "### Collection api"
   ]
  },
  {
   "cell_type": "code",
   "execution_count": 82,
   "id": "dbbbf777",
   "metadata": {},
   "outputs": [
    {
     "name": "stdout",
     "output_type": "stream",
     "text": [
      "<class 'collections.abc.Sequence'>\n"
     ]
    }
   ],
   "source": [
    "from collections import abc\n",
    "\n",
    "print(abc.Sequence)"
   ]
  },
  {
   "cell_type": "code",
   "execution_count": 1,
   "id": "4fe321a3",
   "metadata": {},
   "outputs": [
    {
     "name": "stdout",
     "output_type": "stream",
     "text": [
      "[1, 4, 9, 16, 25, 36, 49, 64, 81, 100]\n",
      "[1, 4, 9, 16, 25, 36, 49, 64, 81, 100]\n"
     ]
    }
   ],
   "source": [
    "# list comprehension\n",
    "l1 = [1,2,3,4,5,6,7,8,9,10]\n",
    "squared_list = [x**2 for x in l1]\n",
    "print(squared_list)  # Output: [1, 4, 9, 16, 25, 36, 49, 64, 81, 100]\n",
    "\n",
    "# generator expression\n",
    "generator = (x**2 for x in l1)    \n",
    "print(list(generator))  # Output: [1, 4, 9, 16, 25, 36, 49, 64, 81, 100]\n"
   ]
  },
  {
   "cell_type": "code",
   "execution_count": 7,
   "id": "9c9f949a",
   "metadata": {},
   "outputs": [
    {
     "name": "stdout",
     "output_type": "stream",
     "text": [
      "<class 'collections.abc.Sequence'>\n"
     ]
    }
   ],
   "source": [
    "from collections import abc\n",
    "print(abc.Sequence)"
   ]
  },
  {
   "cell_type": "code",
   "execution_count": 15,
   "id": "94821667",
   "metadata": {},
   "outputs": [
    {
     "name": "stdout",
     "output_type": "stream",
     "text": [
      "1\n"
     ]
    }
   ],
   "source": [
    "#  tuple unpacking and starred expressions\n",
    "c = [1, 5, 7, 9, 10]\n",
    "(x, *y) = c\n",
    "print(x)\n"
   ]
  },
  {
   "cell_type": "markdown",
   "id": "c22923c7",
   "metadata": {},
   "source": [
    "### Iterable unpacking"
   ]
  },
  {
   "cell_type": "code",
   "execution_count": 17,
   "id": "6f49485d",
   "metadata": {},
   "outputs": [
    {
     "name": "stdout",
     "output_type": "stream",
     "text": [
      "[1, 2, 3, 4, 5, 6, 7, 8]\n"
     ]
    }
   ],
   "source": [
    "a = [1,2,3,4,5]\n",
    "\n",
    "b = [*a, 6, 7, 8]\n",
    "print(b)  # Output: [1, 2, 3, 4, 5, 6, 7, 8]"
   ]
  },
  {
   "cell_type": "code",
   "execution_count": 21,
   "id": "ca27b494",
   "metadata": {},
   "outputs": [
    {
     "data": {
      "text/plain": [
       "['b', 'Word', 'Hello']"
      ]
     },
     "execution_count": 21,
     "metadata": {},
     "output_type": "execute_result"
    }
   ],
   "source": [
    "l = [\"Hello\", \"Word\", \"b\"]\n",
    "\n",
    "l.sort(key=lambda x: len(x))\n",
    "l"
   ]
  },
  {
   "cell_type": "markdown",
   "id": "390f610b",
   "metadata": {},
   "source": [
    "Merging Mappng in dictionary\n"
   ]
  },
  {
   "cell_type": "code",
   "execution_count": 26,
   "id": "63b7a27b",
   "metadata": {},
   "outputs": [
    {
     "name": "stdout",
     "output_type": "stream",
     "text": [
      "{'name': 'John', 'age': 30, 'city': 'New York', 'country': 'USA'}\n",
      "{'name': 'John', 'age': 30, 'city': 'New York', 'country': 'USA'}\n"
     ]
    }
   ],
   "source": [
    "a = {\"name\": \"John\", \"age\": 30}\n",
    "b = {\"city\": \"New York\", \"country\": \"USA\"}\n",
    "\n",
    "c = {**a, **b}\n",
    "print(c)\n",
    "\n",
    "d = a | b\n",
    "print(d)  # Output: {'name': 'John', 'age': 30, 'city': 'New York', 'country': 'USA'}"
   ]
  },
  {
   "cell_type": "code",
   "execution_count": 29,
   "id": "dfb0c5e6",
   "metadata": {},
   "outputs": [
    {
     "data": {
      "text/plain": [
       "['ABCMeta',\n",
       " 'AsyncGenerator',\n",
       " 'AsyncIterable',\n",
       " 'AsyncIterator',\n",
       " 'Awaitable',\n",
       " 'Buffer',\n",
       " 'ByteString',\n",
       " 'Callable',\n",
       " 'Collection',\n",
       " 'Container',\n",
       " 'Coroutine',\n",
       " 'EllipsisType',\n",
       " 'FunctionType',\n",
       " 'Generator',\n",
       " 'GenericAlias',\n",
       " 'Hashable',\n",
       " 'ItemsView',\n",
       " 'Iterable',\n",
       " 'Iterator',\n",
       " 'KeysView',\n",
       " 'Mapping',\n",
       " 'MappingView',\n",
       " 'MutableMapping',\n",
       " 'MutableSequence',\n",
       " 'MutableSet',\n",
       " 'Reversible',\n",
       " 'Sequence',\n",
       " 'Set',\n",
       " 'Sized',\n",
       " 'ValuesView',\n",
       " '_CallableGenericAlias',\n",
       " '_DeprecateByteStringMeta',\n",
       " '__all__',\n",
       " '__builtins__',\n",
       " '__doc__',\n",
       " '__file__',\n",
       " '__loader__',\n",
       " '__name__',\n",
       " '__package__',\n",
       " '__spec__',\n",
       " '_check_methods',\n",
       " '_is_param_expr',\n",
       " '_type_repr',\n",
       " 'abstractmethod',\n",
       " 'async_generator',\n",
       " 'bytearray_iterator',\n",
       " 'bytes_iterator',\n",
       " 'coroutine',\n",
       " 'dict_itemiterator',\n",
       " 'dict_items',\n",
       " 'dict_keyiterator',\n",
       " 'dict_keys',\n",
       " 'dict_valueiterator',\n",
       " 'dict_values',\n",
       " 'framelocalsproxy',\n",
       " 'generator',\n",
       " 'list_iterator',\n",
       " 'list_reverseiterator',\n",
       " 'longrange_iterator',\n",
       " 'mappingproxy',\n",
       " 'range_iterator',\n",
       " 'set_iterator',\n",
       " 'str_iterator',\n",
       " 'sys',\n",
       " 'tuple_iterator',\n",
       " 'zip_iterator']"
      ]
     },
     "execution_count": 29,
     "metadata": {},
     "output_type": "execute_result"
    }
   ],
   "source": [
    "import collections\n",
    "dir(collections.abc)"
   ]
  },
  {
   "cell_type": "code",
   "execution_count": null,
   "id": "1adf690d",
   "metadata": {},
   "outputs": [],
   "source": []
  }
 ],
 "metadata": {
  "kernelspec": {
   "display_name": "Python 3",
   "language": "python",
   "name": "python3"
  },
  "language_info": {
   "codemirror_mode": {
    "name": "ipython",
    "version": 3
   },
   "file_extension": ".py",
   "mimetype": "text/x-python",
   "name": "python",
   "nbconvert_exporter": "python",
   "pygments_lexer": "ipython3",
   "version": "3.13.1"
  }
 },
 "nbformat": 4,
 "nbformat_minor": 5
}
