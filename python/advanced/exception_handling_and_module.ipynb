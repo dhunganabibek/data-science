{
 "cells": [
  {
   "cell_type": "markdown",
   "id": "b4776d4f",
   "metadata": {},
   "source": [
    "## Exception Handling and Module"
   ]
  },
  {
   "cell_type": "code",
   "execution_count": 8,
   "id": "cbcdd95b",
   "metadata": {},
   "outputs": [
    {
     "name": "stdout",
     "output_type": "stream",
     "text": [
      "<built-in method with_traceback of FileNotFoundError object at 0x0000020DBEAF2D40>\n"
     ]
    }
   ],
   "source": [
    "# get specific exception information\n",
    "try: \n",
    "    f = open('test.txt', 'r')\n",
    "except Exception as e:\n",
    "    print(e.with_traceback)\n",
    "    "
   ]
  },
  {
   "cell_type": "markdown",
   "id": "8178bbad",
   "metadata": {},
   "source": [
    "### try, except, else and finally"
   ]
  },
  {
   "cell_type": "code",
   "execution_count": 13,
   "id": "ae70b5b2",
   "metadata": {},
   "outputs": [
    {
     "name": "stdout",
     "output_type": "stream",
     "text": [
      "<built-in method with_traceback of FileNotFoundError object at 0x0000020DBE85C160>\n",
      "Execution completed\n"
     ]
    }
   ],
   "source": [
    "try: \n",
    "    f = open('test.txt', 'r')\n",
    "except FileNotFoundError as e:\n",
    "    print(e.with_traceback)\n",
    "else:\n",
    "    print(\"File opened successfully\")\n",
    "finally:\n",
    "    print(\"Execution completed\")"
   ]
  },
  {
   "cell_type": "code",
   "execution_count": null,
   "id": "ea02bc24",
   "metadata": {},
   "outputs": [
    {
     "name": "stdout",
     "output_type": "stream",
     "text": [
      "<built-in method with_traceback of FileNotFoundError object at 0x0000020DBF091360>\n"
     ]
    }
   ],
   "source": [
    "# handling complex scenario\n",
    "f = None\n",
    "try: \n",
    "    f = open('test.txt', 'r')\n",
    "except FileNotFoundError as e:\n",
    "    print(e.with_traceback)\n",
    "else:\n",
    "    print(\"File opened successfully\")\n",
    "finally:\n",
    "    if f is not None:\n",
    "        f.close()"
   ]
  },
  {
   "cell_type": "markdown",
   "id": "0acb6c79",
   "metadata": {},
   "source": [
    "### creating custom exception"
   ]
  },
  {
   "cell_type": "code",
   "execution_count": 21,
   "id": "c229a257",
   "metadata": {},
   "outputs": [
    {
     "name": "stdout",
     "output_type": "stream",
     "text": [
      "An error occurred\n",
      "<built-in method with_traceback of CustomError object at 0x0000020DBF0BCDE0>\n"
     ]
    }
   ],
   "source": [
    "class CustomError(Exception):\n",
    "    def __init__(self, message):\n",
    "        print(message)\n",
    "        \n",
    "try:\n",
    "    raise CustomError(\"An error occurred\")\n",
    "except CustomError as e:\n",
    "    print(e.with_traceback)\n"
   ]
  },
  {
   "cell_type": "code",
   "execution_count": null,
   "id": "4d00962b",
   "metadata": {},
   "outputs": [],
   "source": []
  }
 ],
 "metadata": {
  "kernelspec": {
   "display_name": "Python 3",
   "language": "python",
   "name": "python3"
  },
  "language_info": {
   "codemirror_mode": {
    "name": "ipython",
    "version": 3
   },
   "file_extension": ".py",
   "mimetype": "text/x-python",
   "name": "python",
   "nbconvert_exporter": "python",
   "pygments_lexer": "ipython3",
   "version": "3.13.1"
  }
 },
 "nbformat": 4,
 "nbformat_minor": 5
}
