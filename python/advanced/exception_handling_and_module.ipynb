{
 "cells": [
  {
   "cell_type": "markdown",
   "id": "b4776d4f",
   "metadata": {},
   "source": [
    "## Exception Handling and Module"
   ]
  },
  {
   "cell_type": "code",
   "execution_count": null,
   "id": "cbcdd95b",
   "metadata": {},
   "outputs": [
    {
     "name": "stdout",
     "output_type": "stream",
     "text": [
      "<built-in method with_traceback of FileNotFoundError object at 0x0000020DBE85FEB0>\n"
     ]
    }
   ],
   "source": [
    "# get specific exception information\n",
    "try: \n",
    "    f = open('test.txt', 'r')\n",
    "except Exception as e:\n",
    "    print(e.with_traceback)\n",
    "    "
   ]
  },
  {
   "cell_type": "code",
   "execution_count": null,
   "id": "8178bbad",
   "metadata": {},
   "outputs": [],
   "source": []
  }
 ],
 "metadata": {
  "kernelspec": {
   "display_name": "Python 3",
   "language": "python",
   "name": "python3"
  },
  "language_info": {
   "codemirror_mode": {
    "name": "ipython",
    "version": 3
   },
   "file_extension": ".py",
   "mimetype": "text/x-python",
   "name": "python",
   "nbconvert_exporter": "python",
   "pygments_lexer": "ipython3",
   "version": "3.13.1"
  }
 },
 "nbformat": 4,
 "nbformat_minor": 5
}
