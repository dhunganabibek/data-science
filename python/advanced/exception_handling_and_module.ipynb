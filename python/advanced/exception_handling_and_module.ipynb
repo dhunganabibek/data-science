{
 "cells": [
  {
   "cell_type": "markdown",
   "id": "b4776d4f",
   "metadata": {},
   "source": [
    "## Exception Handling and Module"
   ]
  },
  {
   "cell_type": "markdown",
   "id": "cbcdd95b",
   "metadata": {},
   "source": []
  }
 ],
 "metadata": {
  "language_info": {
   "name": "python"
  }
 },
 "nbformat": 4,
 "nbformat_minor": 5
}
