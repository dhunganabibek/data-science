{
 "cells": [
  {
   "cell_type": "markdown",
   "id": "1168b695",
   "metadata": {},
   "source": [
    "### Iterators, Decorators and Namespace"
   ]
  },
  {
   "cell_type": "code",
   "execution_count": 5,
   "id": "76b8b64d",
   "metadata": {},
   "outputs": [
    {
     "name": "stdout",
     "output_type": "stream",
     "text": [
      "=== Start ===\n",
      "hello\n",
      "=== End ===\n"
     ]
    }
   ],
   "source": [
    "# decorators - take function and return function with advanced features\n",
    "\n",
    "def display(arg):\n",
    "    print(arg)\n",
    "    \n",
    "    \n",
    "def display_fancy(func, arg):\n",
    "    def wrapper():\n",
    "        print(\"=== Start ===\")\n",
    "        func(arg)\n",
    "        print(\"=== End ===\")\n",
    "    return wrapper\n",
    "\n",
    "display_fancy(display, \"hello\")()\n"
   ]
  },
  {
   "cell_type": "code",
   "execution_count": 11,
   "id": "498a1a46",
   "metadata": {},
   "outputs": [
    {
     "name": "stdout",
     "output_type": "stream",
     "text": [
      "=== Start ===\n",
      "hello\n",
      "=== End ===\n"
     ]
    }
   ],
   "source": [
    "# But same can be used with shorthand syntax using decorators\n",
    "\n",
    "def display_fancy(func):\n",
    "    def wrapper(arg):\n",
    "        print(\"=== Start ===\")\n",
    "        func(arg)\n",
    "        print(\"=== End ===\")\n",
    "    return wrapper\n",
    "\n",
    "@display_fancy\n",
    "def display(arg):\n",
    "    print(arg)\n",
    "    \n",
    "display(\"hello\")    "
   ]
  },
  {
   "cell_type": "code",
   "execution_count": null,
   "id": "8f31f3d5",
   "metadata": {},
   "outputs": [],
   "source": []
  },
  {
   "cell_type": "code",
   "execution_count": null,
   "id": "d5f043a0",
   "metadata": {},
   "outputs": [],
   "source": []
  },
  {
   "cell_type": "code",
   "execution_count": null,
   "id": "96c35d55",
   "metadata": {},
   "outputs": [],
   "source": []
  }
 ],
 "metadata": {
  "kernelspec": {
   "display_name": "Python 3",
   "language": "python",
   "name": "python3"
  },
  "language_info": {
   "codemirror_mode": {
    "name": "ipython",
    "version": 3
   },
   "file_extension": ".py",
   "mimetype": "text/x-python",
   "name": "python",
   "nbconvert_exporter": "python",
   "pygments_lexer": "ipython3",
   "version": "3.13.1"
  }
 },
 "nbformat": 4,
 "nbformat_minor": 5
}
