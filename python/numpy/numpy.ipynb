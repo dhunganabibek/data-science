{
 "cells": [
  {
   "cell_type": "markdown",
   "id": "3f222e87",
   "metadata": {},
   "source": [
    "# Numpy"
   ]
  },
  {
   "cell_type": "code",
   "execution_count": 9,
   "id": "787f654e",
   "metadata": {},
   "outputs": [
    {
     "name": "stdout",
     "output_type": "stream",
     "text": [
      "<class 'numpy.ndarray'>\n",
      "int64\n",
      "(3,)\n",
      "1\n",
      "3\n",
      "8\n"
     ]
    }
   ],
   "source": [
    "# np array\n",
    "import numpy as np\n",
    "\n",
    "a = np.array([1,2,3])\n",
    "print(type(a)) # python data type\n",
    "print(a.dtype) # numpy data type\n",
    "print(a.shape) # shape of the array\n",
    "print(a.ndim) # number of dimensions\n",
    "print(a.size) # number of elements in the array\n",
    "print(a.itemsize) # size of each element in bytes"
   ]
  },
  {
   "cell_type": "code",
   "execution_count": 29,
   "id": "f30a5ddd",
   "metadata": {},
   "outputs": [
    {
     "name": "stdout",
     "output_type": "stream",
     "text": [
      "[1 2 3]\n",
      "[0 1 2 3 4 5 6 7 8 9]\n",
      "[0.   0.25 0.5  0.75 1.  ]\n",
      "[0. 0. 0. 0.]\n",
      "[[1. 1. 1.]\n",
      " [1. 1. 1.]]\n",
      "[[1. 0. 0.]\n",
      " [0. 1. 0.]\n",
      " [0. 0. 1.]]\n",
      "[[0.49697535 0.66200653]\n",
      " [0.22720326 0.87250175]\n",
      " [0.7489501  0.04233577]]\n"
     ]
    }
   ],
   "source": [
    "# creating a np array\n",
    "\n",
    "# from a list\n",
    "a = np.array([1, 2, 3])\n",
    "print(a)\n",
    "\n",
    "# using arange\n",
    "a = np.arange(10)  # creates an array with values from 0 to 9\n",
    "print(a)\n",
    "\n",
    "# using linspace\n",
    "a = np.linspace(0, 1, 5)  # creates an array with 5 values evenly spaced between 0 and 1\n",
    "print(a)\n",
    "\n",
    "# zeros and ones\n",
    "a = np.zeros(4)  # creates a 2x3 array filled with zeros\n",
    "print(a)\n",
    "b = np.ones((2, 3))  # creates a 2x3 array filled with ones\n",
    "print(b)\n",
    "\n",
    "# identity matrix\n",
    "a = np.identity(3)  # creates a 3x3 identity matrix\n",
    "print(a)\n",
    "\n",
    "# from np.random\n",
    "a = np.random.rand(3,2)  # creates a 3x2 array with random values between 0 and 1\n",
    "print(a)\n",
    "\n"
   ]
  },
  {
   "cell_type": "markdown",
   "id": "dc88b775",
   "metadata": {},
   "source": []
  }
 ],
 "metadata": {
  "kernelspec": {
   "display_name": "Python 3",
   "language": "python",
   "name": "python3"
  },
  "language_info": {
   "codemirror_mode": {
    "name": "ipython",
    "version": 3
   },
   "file_extension": ".py",
   "mimetype": "text/x-python",
   "name": "python",
   "nbconvert_exporter": "python",
   "pygments_lexer": "ipython3",
   "version": "3.13.1"
  }
 },
 "nbformat": 4,
 "nbformat_minor": 5
}
