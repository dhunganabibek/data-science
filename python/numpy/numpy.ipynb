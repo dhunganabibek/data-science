{
 "cells": [
  {
   "cell_type": "markdown",
   "id": "3f222e87",
   "metadata": {},
   "source": [
    "# Numpy"
   ]
  },
  {
   "cell_type": "code",
   "execution_count": 22,
   "id": "787f654e",
   "metadata": {},
   "outputs": [
    {
     "name": "stdout",
     "output_type": "stream",
     "text": [
      "<class 'numpy.ndarray'>\n",
      "int64\n",
      "(3,)\n",
      "1\n",
      "3\n",
      "8\n"
     ]
    }
   ],
   "source": [
    "# np array\n",
    "import numpy as np\n",
    "import matplotlib.pyplot as plt\n",
    "\n",
    "a = np.array([1,2,3])\n",
    "print(type(a)) # python data type\n",
    "print(a.dtype) # numpy data type\n",
    "print(a.shape) # shape of the array\n",
    "print(a.ndim) # number of dimensions\n",
    "print(a.size) # number of elements in the array\n",
    "print(a.itemsize) # size of each element in bytes"
   ]
  },
  {
   "cell_type": "code",
   "execution_count": 29,
   "id": "f30a5ddd",
   "metadata": {},
   "outputs": [
    {
     "name": "stdout",
     "output_type": "stream",
     "text": [
      "[1 2 3]\n",
      "[0 1 2 3 4 5 6 7 8 9]\n",
      "[0.   0.25 0.5  0.75 1.  ]\n",
      "[0. 0. 0. 0.]\n",
      "[[1. 1. 1.]\n",
      " [1. 1. 1.]]\n",
      "[[1. 0. 0.]\n",
      " [0. 1. 0.]\n",
      " [0. 0. 1.]]\n",
      "[[0.49697535 0.66200653]\n",
      " [0.22720326 0.87250175]\n",
      " [0.7489501  0.04233577]]\n"
     ]
    }
   ],
   "source": [
    "# creating a np array\n",
    "\n",
    "# from a list\n",
    "a = np.array([1, 2, 3])\n",
    "print(a)\n",
    "\n",
    "# using arange\n",
    "a = np.arange(10)  # creates an array with values from 0 to 9\n",
    "print(a)\n",
    "\n",
    "# using linspace\n",
    "a = np.linspace(0, 1, 5)  # creates an array with 5 values evenly spaced between 0 and 1\n",
    "print(a)\n",
    "\n",
    "# zeros and ones\n",
    "a = np.zeros(4)  # creates a 2x3 array filled with zeros\n",
    "print(a)\n",
    "b = np.ones((2, 3))  # creates a 2x3 array filled with ones\n",
    "print(b)\n",
    "\n",
    "# identity matrix\n",
    "a = np.identity(3)  # creates a 3x3 identity matrix\n",
    "print(a)\n",
    "\n",
    "# from np.random\n",
    "a = np.random.rand(3,2)  # creates a 3x2 array with random values between 0 and 1\n",
    "print(a)\n",
    "\n"
   ]
  },
  {
   "cell_type": "code",
   "execution_count": 37,
   "id": "dc88b775",
   "metadata": {},
   "outputs": [
    {
     "name": "stdout",
     "output_type": "stream",
     "text": [
      "[[0.6302602  0.04056833]\n",
      " [0.03770141 0.17545154]\n",
      " [0.59824139 0.98953108]]\n",
      "[[ 1.52842957  1.79495452]\n",
      " [-1.18230744 -0.03938822]\n",
      " [ 1.25627356 -0.27738854]]\n",
      "[[5 3]\n",
      " [6 6]\n",
      " [3 3]]\n"
     ]
    }
   ],
   "source": [
    "# using new generator api for generaimg random numbers\n",
    "rng = np.random.default_rng()\n",
    "\n",
    "a = rng.random((3, 2))  # creates a 3x2 array with random values between 0 and 1\n",
    "print(a)\n",
    "\n",
    "a = rng.standard_normal((3, 2))  # creates a 3x2 array with random values from a standard normal distribution\n",
    "print(a)\n",
    "\n",
    "a = rng.integers(0, 10, size=(3, 2))  # creates a 3x2 array with random integers between 0 and 10\n",
    "print(a)\n"
   ]
  },
  {
   "cell_type": "code",
   "execution_count": 12,
   "id": "bf514e2b",
   "metadata": {},
   "outputs": [
    {
     "name": "stdout",
     "output_type": "stream",
     "text": [
      "(24, 8)\n"
     ]
    },
    {
     "data": {
      "text/plain": [
       "dtype('int64')"
      ]
     },
     "execution_count": 12,
     "metadata": {},
     "output_type": "execute_result"
    }
   ],
   "source": [
    "# numpy strides\n",
    "a = np.array([[1,2,3], [9, 8,7], [4,5,3], [10,11,15]])\n",
    "print(a.strides)\n",
    "a.dtype\n"
   ]
  },
  {
   "cell_type": "code",
   "execution_count": null,
   "id": "791ef2f7",
   "metadata": {},
   "outputs": [
    {
     "name": "stdout",
     "output_type": "stream",
     "text": [
      "[[0 0 0]\n",
      " [2 2 2]\n",
      " [4 4 4]\n",
      " [6 6 6]]\n"
     ]
    }
   ],
   "source": [
    "# creating array using np.fromfunction\n",
    "def func(i,j):\n",
    "    return i + j\n",
    "\n",
    "a = np.fromfunction(func, (4, 3), dtype=int) \n",
    "print(a)"
   ]
  },
  {
   "cell_type": "code",
   "execution_count": 32,
   "id": "027e6d17",
   "metadata": {},
   "outputs": [
    {
     "data": {
      "image/png": "[encoded data removed]",
      "text/plain": [
       "<Figure size 800x600 with 1 Axes>"
      ]
     },
     "metadata": {},
     "output_type": "display_data"
    }
   ],
   "source": [
    "# create a function and plotting the meshgrid\n",
    "x = np.linspace(-5, 5, 9)\n",
    "y = np.linspace(-5, 5, 9)\n",
    "X,Y = np.meshgrid(x, y)\n",
    "\n",
    "plt.figure(figsize=(8, 6))\n",
    "plt.plot(X, Y, 'o', markersize=5, color='blue', alpha=0.5)\n",
    "plt.grid(True)\n",
    "\n"
   ]
  },
  {
   "cell_type": "code",
   "execution_count": 51,
   "id": "330437fa",
   "metadata": {},
   "outputs": [
    {
     "data": {
      "image/png": "[encoded data removed]",
      "text/plain": [
       "<Figure size 640x480 with 1 Axes>"
      ]
     },
     "metadata": {},
     "output_type": "display_data"
    }
   ],
   "source": [
    "import numpy as np\n",
    "import matplotlib.pyplot as plt\n",
    "\n",
    "# Create figure and axis\n",
    "fig, ax = plt.subplots()\n",
    "\n",
    "# Draw coordinate axes\n",
    "ax.axhline(0, color='black', linewidth=1)  # x-axis\n",
    "ax.axvline(0, color='black', linewidth=1)  # y-axis\n",
    "\n",
    "# Example vector (from origin to (3, 4))\n",
    "origin = [0, 0]\n",
    "vector = [3, 4]\n",
    "\n",
    "# Plot the vector\n",
    "ax.quiver(*origin, *vector, angles='xy', scale_units='xy', scale=1, color='red')\n",
    "\n",
    "# Set limits and labels\n",
    "ax.set_xlim(-5, 5)\n",
    "ax.set_ylim(-5, 5)\n",
    "ax.set_xlabel('X axis')\n",
    "ax.set_ylabel('Y axis')\n",
    "ax.set_aspect('equal')\n",
    "plt.grid(True)\n",
    "plt.title('Coordinate Axes and Vector')\n",
    "plt.show()"
   ]
  },
  {
   "cell_type": "code",
   "execution_count": 79,
   "id": "b72c2ee6",
   "metadata": {},
   "outputs": [
    {
     "name": "stdout",
     "output_type": "stream",
     "text": [
      "[3 4 5]\n",
      "[3 4 5]\n",
      "[3 4 5]\n",
      "[3 4 5]\n",
      "---------------------------------\n",
      "[5 4 3]\n",
      "[5 4 3]\n"
     ]
    }
   ],
   "source": [
    "# Inddexing and slicing\n",
    "a = np.array([1,2,3,4,5,6,7,8])\n",
    "\n",
    "print(a[2:5:1])\n",
    "print(a[2:-3:1])\n",
    "print(a[-6:-3:1])\n",
    "print(a[-6:5:1])\n",
    "\n",
    "print(\"---------------------------------\")\n",
    "print(a[4:1:-1])\n",
    "print(a[-4:-7:-1])\n",
    "\n",
    "# so basically the slicing is done as [start:stop:step]\n",
    "# step : positive means forward, negative means backward\n",
    "# forward m to n -1\n",
    "# backward m to n + 1\n",
    "# left satrt from 0 and right start from -1"
   ]
  },
  {
   "cell_type": "code",
   "execution_count": null,
   "id": "f88173c2",
   "metadata": {},
   "outputs": [
    {
     "data": {
      "text/plain": [
       "array([4, 5, 6, 7, 8])"
      ]
     },
     "execution_count": 80,
     "metadata": {},
     "output_type": "execute_result"
    }
   ],
   "source": [
    "# selectimng last 5 elements\n",
    "a[-5:]"
   ]
  },
  {
   "cell_type": "code",
   "execution_count": 83,
   "id": "b685a7be",
   "metadata": {},
   "outputs": [
    {
     "data": {
      "text/plain": [
       "array([1, 2, 3, 4, 5])"
      ]
     },
     "execution_count": 83,
     "metadata": {},
     "output_type": "execute_result"
    }
   ],
   "source": [
    "# selecting first 5 elements\n",
    "a[0:5]"
   ]
  },
  {
   "cell_type": "code",
   "execution_count": 87,
   "id": "807c0adf",
   "metadata": {},
   "outputs": [
    {
     "name": "stdout",
     "output_type": "stream",
     "text": [
      "[[ 0  1  2  3  4  5]\n",
      " [10 11 12 13 14 15]\n",
      " [20 21 22 23 24 25]\n",
      " [30 31 32 33 34 35]\n",
      " [40 41 42 43 44 45]\n",
      " [50 51 52 53 54 55]]\n"
     ]
    }
   ],
   "source": [
    "# selecting muttidimensional array\n",
    "f = lambda m, n :  n + 10 * m\n",
    "A = np.fromfunction(f, (6, 6), dtype=int)\n",
    "print(A)"
   ]
  },
  {
   "cell_type": "code",
   "execution_count": 98,
   "id": "6b61f4ef",
   "metadata": {},
   "outputs": [
    {
     "name": "stdout",
     "output_type": "stream",
     "text": [
      "[[ 1  2  3  4  5]\n",
      " [ 6  7  8  9 10]\n",
      " [11 12 13 14 15]\n",
      " [16 17 18 19 20]]\n"
     ]
    }
   ],
   "source": [
    "A = np.arange(1,21).reshape(4, 5)\n",
    "print(A)"
   ]
  },
  {
   "cell_type": "code",
   "execution_count": 110,
   "id": "db50af45",
   "metadata": {},
   "outputs": [
    {
     "data": {
      "text/plain": [
       "array([[ 5,  4,  3,  2,  1],\n",
       "       [10,  9,  8,  7,  6],\n",
       "       [15, 14, 13, 12, 11],\n",
       "       [20, 19, 18, 17, 16]])"
      ]
     },
     "execution_count": 110,
     "metadata": {},
     "output_type": "execute_result"
    }
   ],
   "source": [
    "A[:,::-1]"
   ]
  },
  {
   "cell_type": "markdown",
   "id": "ccc5accb",
   "metadata": {},
   "source": [
    "### Fancy indexinmg and boolen value indexing\n",
    "\n",
    "Fancy indexing and boolean filter return arrays not view"
   ]
  },
  {
   "cell_type": "code",
   "execution_count": 118,
   "id": "83247a90",
   "metadata": {},
   "outputs": [
    {
     "data": {
      "text/plain": [
       "array([ 4,  7, 10, 13, 16, 19, 22, 25, 28, 31, 34, 37, 40, 43, 46, 49, 52,\n",
       "       55, 58, 61, 64, 67, 70, 73, 76, 79, 82, 85, 88, 91, 94, 97])"
      ]
     },
     "execution_count": 118,
     "metadata": {},
     "output_type": "execute_result"
    }
   ],
   "source": [
    "A = np.arange(1,100,3)\n",
    "A[A > 2]"
   ]
  },
  {
   "cell_type": "markdown",
   "id": "663b6456",
   "metadata": {},
   "source": [
    "### reshaping and resizing\n"
   ]
  },
  {
   "cell_type": "markdown",
   "id": "a336dc3d",
   "metadata": {},
   "source": []
  },
  {
   "cell_type": "code",
   "execution_count": 129,
   "id": "62e0da67",
   "metadata": {},
   "outputs": [
    {
     "name": "stdout",
     "output_type": "stream",
     "text": [
      "[[1 2 3]\n",
      " [4 5 6]\n",
      " [7 8 9]]\n",
      "[1 2 3 4 5 6 7 8 9]\n",
      "[1 4 7 2 5 8 3 6 9]\n",
      "[1 2 3 4 5 6 7 8 9]\n",
      "[1 2 3 4 5 6 7 8 9]\n"
     ]
    }
   ],
   "source": [
    "\n",
    "A = np.array([[1,2,3], [4,5,6], [7, 8, 9]])\n",
    "print(A)\n",
    "print(A.ravel(order='C'))  # returns a flattened array in C-style order\n",
    "print(A.ravel(order='F'))  # returns a flattened array in Fortran-style order\n",
    "print(A.flatten())  # returns a copy of the array\n",
    "print(A.reshape(-1))"
   ]
  },
  {
   "cell_type": "code",
   "execution_count": 134,
   "id": "11cbe17a",
   "metadata": {},
   "outputs": [
    {
     "name": "stdout",
     "output_type": "stream",
     "text": [
      "[[1]\n",
      " [2]\n",
      " [3]\n",
      " [4]\n",
      " [5]\n",
      " [6]\n",
      " [7]\n",
      " [8]\n",
      " [9]]\n",
      "[[1]\n",
      " [2]\n",
      " [3]\n",
      " [4]\n",
      " [5]\n",
      " [6]\n",
      " [7]\n",
      " [8]\n",
      " [9]]\n"
     ]
    }
   ],
   "source": [
    "# numpy np.new axis and np.expand_dims\n",
    "A = np.arange(1, 10)\n",
    "\n",
    "# makeing this a colum vector\n",
    "v = A[:, np.newaxis]\n",
    "print(v)\n",
    "\n",
    "# making  column vector using expand_dims\n",
    "v = np.expand_dims(A, axis=1)\n",
    "print(v)\n"
   ]
  },
  {
   "cell_type": "code",
   "execution_count": null,
   "id": "75e06176",
   "metadata": {},
   "outputs": [],
   "source": []
  }
 ],
 "metadata": {
  "kernelspec": {
   "display_name": "Python 3",
   "language": "python",
   "name": "python3"
  },
  "language_info": {
   "codemirror_mode": {
    "name": "ipython",
    "version": 3
   },
   "file_extension": ".py",
   "mimetype": "text/x-python",
   "name": "python",
   "nbconvert_exporter": "python",
   "pygments_lexer": "ipython3",
   "version": "3.13.1"
  }
 },
 "nbformat": 4,
 "nbformat_minor": 5
}
