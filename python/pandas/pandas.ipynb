{
 "cells": [
  {
   "cell_type": "markdown",
   "id": "e41415db",
   "metadata": {},
   "source": [
    "# Pandas"
   ]
  },
  {
   "cell_type": "code",
   "execution_count": 2,
   "id": "2e630440",
   "metadata": {},
   "outputs": [],
   "source": [
    "import numpy as numpy\n",
    "import pandas as pd"
   ]
  },
  {
   "cell_type": "code",
   "execution_count": null,
   "id": "72ea7595",
   "metadata": {},
   "outputs": [
    {
     "name": "stdout",
     "output_type": "stream",
     "text": [
      "0    Houston\n",
      "1    Lubbock\n",
      "2     Dallas\n",
      "dtype: object\n"
     ]
    }
   ],
   "source": [
    "# creating a series\n",
    "cities = [\"Houston\", \"Lubbock\",\"Dallas\"]\n",
    "print(pd.Series(cities)) # object is parent type of python"
   ]
  },
  {
   "cell_type": "markdown",
   "id": "fc648001",
   "metadata": {},
   "source": []
  }
 ],
 "metadata": {
  "kernelspec": {
   "display_name": "Python 3",
   "language": "python",
   "name": "python3"
  },
  "language_info": {
   "codemirror_mode": {
    "name": "ipython",
    "version": 3
   },
   "file_extension": ".py",
   "mimetype": "text/x-python",
   "name": "python",
   "nbconvert_exporter": "python",
   "pygments_lexer": "ipython3",
   "version": "3.13.1"
  }
 },
 "nbformat": 4,
 "nbformat_minor": 5
}
