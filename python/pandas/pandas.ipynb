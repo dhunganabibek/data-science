{
 "cells": [
  {
   "cell_type": "markdown",
   "id": "e41415db",
   "metadata": {},
   "source": [
    "# Pandas"
   ]
  },
  {
   "cell_type": "code",
   "execution_count": 2,
   "id": "2e630440",
   "metadata": {},
   "outputs": [],
   "source": [
    "import numpy as numpy\n",
    "import pandas as pd"
   ]
  },
  {
   "cell_type": "code",
   "execution_count": 5,
   "id": "72ea7595",
   "metadata": {},
   "outputs": [
    {
     "name": "stdout",
     "output_type": "stream",
     "text": [
      "0    Houston\n",
      "1    Lubbock\n",
      "2     Dallas\n",
      "dtype: object\n"
     ]
    }
   ],
   "source": [
    "# creating a series\n",
    "cities = [\"Houston\", \"Lubbock\",\"Dallas\"]\n",
    "print(pd.Series(cities)) # object is parent type of python"
   ]
  },
  {
   "cell_type": "code",
   "execution_count": null,
   "id": "fc648001",
   "metadata": {},
   "outputs": [
    {
     "name": "stdout",
     "output_type": "stream",
     "text": [
      "Houston    1\n",
      "Lubbock    2\n",
      "Dallas     3\n",
      "dtype: int64\n"
     ]
    }
   ],
   "source": [
    "# creating pandas series from dictionary\n",
    "data = {\"Houston\": 1, \"Lubbock\": 2, \"Dallas\": 3}\n",
    "s = pd.Series(data, index = data.keys()) #index is the key of the dictionary\n",
    "print(s)"
   ]
  },
  {
   "cell_type": "code",
   "execution_count": 30,
   "id": "35a4569f",
   "metadata": {},
   "outputs": [
    {
     "name": "stdout",
     "output_type": "stream",
     "text": [
      "Index(['Houston', 'Lubbock', 'Dallas'], dtype='object')\n",
      "[1 2 3]\n",
      "int64\n",
      "None\n",
      "(3,)\n",
      "3\n",
      "24\n",
      "48\n",
      "False\n",
      "False\n",
      "Houston    1\n",
      "Lubbock    2\n",
      "Dallas     3\n",
      "dtype: int64\n",
      "object\n"
     ]
    }
   ],
   "source": [
    "# attributes of pandas series\n",
    "print(s.index) # index of the series\n",
    "print(s.values) # values of the series\n",
    "print(s.dtype) # data type of the series\n",
    "print(s.name) # name of the series\n",
    "print(s.shape) # shape of the series\n",
    "print(s.size) # size of the series\n",
    "print(s.nbytes) # number of bytes used by the series\n",
    "print (s.memory_usage()) # memory usage of the series\n",
    "print(s.hasnans) # check if the series has any NaN values\n",
    "print(s.empty) # check if the series is empty\n",
    "print(s.T) # transpose of the series\n",
    "print(s.index.dtype)"
   ]
  },
  {
   "cell_type": "code",
   "execution_count": null,
   "id": "e469ee4f",
   "metadata": {},
   "outputs": [],
   "source": [
    "\n"
   ]
  }
 ],
 "metadata": {
  "kernelspec": {
   "display_name": "Python 3",
   "language": "python",
   "name": "python3"
  },
  "language_info": {
   "codemirror_mode": {
    "name": "ipython",
    "version": 3
   },
   "file_extension": ".py",
   "mimetype": "text/x-python",
   "name": "python",
   "nbconvert_exporter": "python",
   "pygments_lexer": "ipython3",
   "version": "3.13.1"
  }
 },
 "nbformat": 4,
 "nbformat_minor": 5
}
