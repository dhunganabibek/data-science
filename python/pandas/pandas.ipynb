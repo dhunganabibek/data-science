{
 "cells": [
  {
   "cell_type": "markdown",
   "id": "e41415db",
   "metadata": {},
   "source": [
    "# Pandas"
   ]
  },
  {
   "cell_type": "code",
   "execution_count": 1,
   "id": "2e630440",
   "metadata": {},
   "outputs": [],
   "source": [
    "import numpy as numpy\n",
    "import pandas as pd"
   ]
  },
  {
   "cell_type": "code",
   "execution_count": 5,
   "id": "72ea7595",
   "metadata": {},
   "outputs": [
    {
     "name": "stdout",
     "output_type": "stream",
     "text": [
      "0    Houston\n",
      "1    Lubbock\n",
      "2     Dallas\n",
      "dtype: object\n"
     ]
    }
   ],
   "source": [
    "# creating a series\n",
    "cities = [\"Houston\", \"Lubbock\",\"Dallas\"]\n",
    "print(pd.Series(cities)) # object is parent type of python"
   ]
  },
  {
   "cell_type": "code",
   "execution_count": null,
   "id": "fc648001",
   "metadata": {},
   "outputs": [
    {
     "name": "stdout",
     "output_type": "stream",
     "text": [
      "Houston    1\n",
      "Lubbock    2\n",
      "Dallas     3\n",
      "dtype: int64\n"
     ]
    }
   ],
   "source": [
    "# creating pandas series from dictionary\n",
    "data = {\"Houston\": 1, \"Lubbock\": 2, \"Dallas\": 3}\n",
    "s = pd.Series(data, index = data.keys()) #index is the key of the dictionary\n",
    "print(s)"
   ]
  },
  {
   "cell_type": "code",
   "execution_count": 30,
   "id": "35a4569f",
   "metadata": {},
   "outputs": [
    {
     "name": "stdout",
     "output_type": "stream",
     "text": [
      "Index(['Houston', 'Lubbock', 'Dallas'], dtype='object')\n",
      "[1 2 3]\n",
      "int64\n",
      "None\n",
      "(3,)\n",
      "3\n",
      "24\n",
      "48\n",
      "False\n",
      "False\n",
      "Houston    1\n",
      "Lubbock    2\n",
      "Dallas     3\n",
      "dtype: int64\n",
      "object\n"
     ]
    }
   ],
   "source": [
    "# attributes of pandas series\n",
    "print(s.index) # index of the series\n",
    "print(s.values) # values of the series\n",
    "print(s.dtype) # data type of the series\n",
    "print(s.name) # name of the series\n",
    "print(s.shape) # shape of the series\n",
    "print(s.size) # size of the series\n",
    "print(s.nbytes) # number of bytes used by the series\n",
    "print (s.memory_usage()) # memory usage of the series\n",
    "print(s.hasnans) # check if the series has any NaN values\n",
    "print(s.empty) # check if the series is empty\n",
    "print(s.T) # transpose of the series\n",
    "print(s.index.dtype)"
   ]
  },
  {
   "cell_type": "code",
   "execution_count": 11,
   "id": "e469ee4f",
   "metadata": {},
   "outputs": [
    {
     "name": "stdout",
     "output_type": "stream",
     "text": [
      "      City  Population\n",
      "0  Houston           1\n",
      "1  Lubbock           2\n",
      "2   Dallas           3\n",
      "      City  Population\n",
      "0  Houston           1\n",
      "1  Lubbock           2\n",
      "2   Dallas           3\n"
     ]
    }
   ],
   "source": [
    "# creating a  dataframe\n",
    "# using list\n",
    "df1 = pd.DataFrame([[\"Houston\", 1], [\"Lubbock\", 2], [\"Dallas\", 3]], columns=[\"City\", \"Population\"])\n",
    "print(df1)\n",
    "\n",
    "# using dictionary\n",
    "df2 = pd.DataFrame({\"City\": [\"Houston\", \"Lubbock\", \"Dallas\"], \"Population\": [1, 2, 3]})\n",
    "print(df2)\n"
   ]
  },
  {
   "cell_type": "code",
   "execution_count": 13,
   "id": "7b64073c",
   "metadata": {},
   "outputs": [
    {
     "name": "stdout",
     "output_type": "stream",
     "text": [
      "                                title_x    imdb_id  \\\n",
      "0              Uri: The Surgical Strike  tt8291224   \n",
      "1                         Battalion 609  tt9472208   \n",
      "2  The Accidental Prime Minister (film)  tt6986710   \n",
      "3                       Why Cheat India  tt8108208   \n",
      "4                       Evening Shadows  tt6028796   \n",
      "\n",
      "                                         poster_path  \\\n",
      "0  https://upload.wikimedia.org/wikipedia/en/thum...   \n",
      "1                                                NaN   \n",
      "2  https://upload.wikimedia.org/wikipedia/en/thum...   \n",
      "3  https://upload.wikimedia.org/wikipedia/en/thum...   \n",
      "4                                                NaN   \n",
      "\n",
      "                                           wiki_link  \\\n",
      "0  https://en.wikipedia.org/wiki/Uri:_The_Surgica...   \n",
      "1        https://en.wikipedia.org/wiki/Battalion_609   \n",
      "2  https://en.wikipedia.org/wiki/The_Accidental_P...   \n",
      "3      https://en.wikipedia.org/wiki/Why_Cheat_India   \n",
      "4      https://en.wikipedia.org/wiki/Evening_Shadows   \n",
      "\n",
      "                         title_y                 original_title  is_adult  \\\n",
      "0       Uri: The Surgical Strike       Uri: The Surgical Strike         0   \n",
      "1                  Battalion 609                  Battalion 609         0   \n",
      "2  The Accidental Prime Minister  The Accidental Prime Minister         0   \n",
      "3                Why Cheat India                Why Cheat India         0   \n",
      "4                Evening Shadows                Evening Shadows         0   \n",
      "\n",
      "   year_of_release runtime            genres  imdb_rating  imdb_votes  \\\n",
      "0             2019     138  Action|Drama|War          8.4       35112   \n",
      "1             2019     131               War          4.1          73   \n",
      "2             2019     112   Biography|Drama          6.1        5549   \n",
      "3             2019     121       Crime|Drama          6.0        1891   \n",
      "4             2018     102             Drama          7.3         280   \n",
      "\n",
      "                                               story  \\\n",
      "0  Divided over five chapters  the film chronicle...   \n",
      "1  The story revolves around a cricket match betw...   \n",
      "2  Based on the memoir by Indian policy analyst S...   \n",
      "3  The movie focuses on existing malpractices in ...   \n",
      "4  While gay rights and marriage equality has bee...   \n",
      "\n",
      "                                             summary tagline  \\\n",
      "0  Indian army special forces execute a covert op...     NaN   \n",
      "1  The story of Battalion 609 revolves around a c...     NaN   \n",
      "2  Explores Manmohan Singh's tenure as the Prime ...     NaN   \n",
      "3  The movie focuses on existing malpractices in ...     NaN   \n",
      "4  Under the 'Evening Shadows'  truth often plays...     NaN   \n",
      "\n",
      "                                              actors        wins_nominations  \\\n",
      "0  Vicky Kaushal|Paresh Rawal|Mohit Raina|Yami Ga...                  4 wins   \n",
      "1  Vicky Ahuja|Shoaib Ibrahim|Shrikant Kamat|Elen...                     NaN   \n",
      "2  Anupam Kher|Akshaye Khanna|Aahana Kumra|Atul S...                     NaN   \n",
      "3  Emraan Hashmi|Shreya Dhanwanthary|Snighdadeep ...                     NaN   \n",
      "4  Mona Ambegaonkar|Ananth Narayan Mahadevan|Deva...  17 wins & 1 nomination   \n",
      "\n",
      "              release_date  \n",
      "0    11 January 2019 (USA)  \n",
      "1  11 January 2019 (India)  \n",
      "2    11 January 2019 (USA)  \n",
      "3    18 January 2019 (USA)  \n",
      "4  11 January 2019 (India)  \n",
      "        ID       City        Date Season  MatchNumber  \\\n",
      "0  1312200  Ahmedabad  2022-05-29   2022        Final   \n",
      "1  1312199  Ahmedabad  2022-05-27   2022  Qualifier 2   \n",
      "2  1312198    Kolkata  2022-05-25   2022   Eliminator   \n",
      "3  1312197    Kolkata  2022-05-24   2022  Qualifier 1   \n",
      "4  1304116     Mumbai  2022-05-22   2022           70   \n",
      "\n",
      "                         Team1                 Team2  \\\n",
      "0             Rajasthan Royals        Gujarat Titans   \n",
      "1  Royal Challengers Bangalore      Rajasthan Royals   \n",
      "2  Royal Challengers Bangalore  Lucknow Super Giants   \n",
      "3             Rajasthan Royals        Gujarat Titans   \n",
      "4          Sunrisers Hyderabad          Punjab Kings   \n",
      "\n",
      "                              Venue            TossWinner TossDecision  \\\n",
      "0  Narendra Modi Stadium, Ahmedabad      Rajasthan Royals          bat   \n",
      "1  Narendra Modi Stadium, Ahmedabad      Rajasthan Royals        field   \n",
      "2             Eden Gardens, Kolkata  Lucknow Super Giants        field   \n",
      "3             Eden Gardens, Kolkata        Gujarat Titans        field   \n",
      "4          Wankhede Stadium, Mumbai   Sunrisers Hyderabad          bat   \n",
      "\n",
      "  SuperOver                  WinningTeam    WonBy  Margin method  \\\n",
      "0         N               Gujarat Titans  Wickets     7.0    NaN   \n",
      "1         N             Rajasthan Royals  Wickets     7.0    NaN   \n",
      "2         N  Royal Challengers Bangalore     Runs    14.0    NaN   \n",
      "3         N               Gujarat Titans  Wickets     7.0    NaN   \n",
      "4         N                 Punjab Kings  Wickets     5.0    NaN   \n",
      "\n",
      "  Player_of_Match                                       Team1Players  \\\n",
      "0       HH Pandya  ['YBK Jaiswal', 'JC Buttler', 'SV Samson', 'D ...   \n",
      "1      JC Buttler  ['V Kohli', 'F du Plessis', 'RM Patidar', 'GJ ...   \n",
      "2      RM Patidar  ['V Kohli', 'F du Plessis', 'RM Patidar', 'GJ ...   \n",
      "3       DA Miller  ['YBK Jaiswal', 'JC Buttler', 'SV Samson', 'D ...   \n",
      "4   Harpreet Brar  ['PK Garg', 'Abhishek Sharma', 'RA Tripathi', ...   \n",
      "\n",
      "                                        Team2Players        Umpire1  \\\n",
      "0  ['WP Saha', 'Shubman Gill', 'MS Wade', 'HH Pan...    CB Gaffaney   \n",
      "1  ['YBK Jaiswal', 'JC Buttler', 'SV Samson', 'D ...    CB Gaffaney   \n",
      "2  ['Q de Kock', 'KL Rahul', 'M Vohra', 'DJ Hooda...  J Madanagopal   \n",
      "3  ['WP Saha', 'Shubman Gill', 'MS Wade', 'HH Pan...   BNJ Oxenford   \n",
      "4  ['JM Bairstow', 'S Dhawan', 'M Shahrukh Khan',...   AK Chaudhary   \n",
      "\n",
      "         Umpire2  \n",
      "0    Nitin Menon  \n",
      "1    Nitin Menon  \n",
      "2       MA Gough  \n",
      "3      VK Sharma  \n",
      "4  NA Patwardhan  \n"
     ]
    }
   ],
   "source": [
    "# reading from scv files\n",
    "movies = pd.read_csv(\"./assets/movies.csv\")\n",
    "print(movies.head())  # display the first few rows of the dataframe\n",
    "\n",
    "ipl = pd.read_csv(\"./assets/ipl-matches.csv\")\n",
    "print(ipl.head())  # display the first few rows of the dataframe"
   ]
  },
  {
   "cell_type": "code",
   "execution_count": 15,
   "id": "dbcff0a2",
   "metadata": {},
   "outputs": [
    {
     "data": {
      "application/vnd.microsoft.datawrangler.viewer.v0+json": {
       "columns": [
        {
         "name": "index",
         "rawType": "object",
         "type": "string"
        },
        {
         "name": "0",
         "rawType": "object",
         "type": "unknown"
        }
       ],
       "ref": "c6a2eed1-f330-4345-aae2-cf1419e9909f",
       "rows": [
        [
         "title_x",
         "object"
        ],
        [
         "imdb_id",
         "object"
        ],
        [
         "poster_path",
         "object"
        ],
        [
         "wiki_link",
         "object"
        ],
        [
         "title_y",
         "object"
        ],
        [
         "original_title",
         "object"
        ],
        [
         "is_adult",
         "int64"
        ],
        [
         "year_of_release",
         "int64"
        ],
        [
         "runtime",
         "object"
        ],
        [
         "genres",
         "object"
        ],
        [
         "imdb_rating",
         "float64"
        ],
        [
         "imdb_votes",
         "int64"
        ],
        [
         "story",
         "object"
        ],
        [
         "summary",
         "object"
        ],
        [
         "tagline",
         "object"
        ],
        [
         "actors",
         "object"
        ],
        [
         "wins_nominations",
         "object"
        ],
        [
         "release_date",
         "object"
        ]
       ],
       "shape": {
        "columns": 1,
        "rows": 18
       }
      },
      "text/plain": [
       "title_x              object\n",
       "imdb_id              object\n",
       "poster_path          object\n",
       "wiki_link            object\n",
       "title_y              object\n",
       "original_title       object\n",
       "is_adult              int64\n",
       "year_of_release       int64\n",
       "runtime              object\n",
       "genres               object\n",
       "imdb_rating         float64\n",
       "imdb_votes            int64\n",
       "story                object\n",
       "summary              object\n",
       "tagline              object\n",
       "actors               object\n",
       "wins_nominations     object\n",
       "release_date         object\n",
       "dtype: object"
      ]
     },
     "execution_count": 15,
     "metadata": {},
     "output_type": "execute_result"
    }
   ],
   "source": [
    "movies.dtypes"
   ]
  },
  {
   "cell_type": "code",
   "execution_count": 17,
   "id": "cdab13f0",
   "metadata": {},
   "outputs": [
    {
     "data": {
      "text/plain": [
       "RangeIndex(start=0, stop=1629, step=1)"
      ]
     },
     "execution_count": 17,
     "metadata": {},
     "output_type": "execute_result"
    }
   ],
   "source": [
    "movies.index"
   ]
  },
  {
   "cell_type": "code",
   "execution_count": 18,
   "id": "a4035fa7",
   "metadata": {},
   "outputs": [
    {
     "data": {
      "text/plain": [
       "Index(['title_x', 'imdb_id', 'poster_path', 'wiki_link', 'title_y',\n",
       "       'original_title', 'is_adult', 'year_of_release', 'runtime', 'genres',\n",
       "       'imdb_rating', 'imdb_votes', 'story', 'summary', 'tagline', 'actors',\n",
       "       'wins_nominations', 'release_date'],\n",
       "      dtype='object')"
      ]
     },
     "execution_count": 18,
     "metadata": {},
     "output_type": "execute_result"
    }
   ],
   "source": [
    "movies.columns"
   ]
  },
  {
   "cell_type": "code",
   "execution_count": 2,
   "id": "06a6745f",
   "metadata": {},
   "outputs": [],
   "source": [
    "# group by operation \n",
    "df = pd.DataFrame({\n",
    "    'team': ['A', 'A', 'B', 'B', 'C'],\n",
    "    'score': [10, 15, 10, 20, 30]\n",
    "})"
   ]
  },
  {
   "cell_type": "code",
   "execution_count": 6,
   "id": "8b2c823e",
   "metadata": {},
   "outputs": [
    {
     "name": "stdout",
     "output_type": "stream",
     "text": [
      "Group: A\n",
      "  team  score\n",
      "0    A     10\n",
      "1    A     15\n",
      "Group: B\n",
      "  team  score\n",
      "2    B     10\n",
      "3    B     20\n",
      "Group: C\n",
      "  team  score\n",
      "4    C     30\n"
     ]
    }
   ],
   "source": [
    "result = df.groupby('team')\n",
    "for  name, group in result:\n",
    "    print(f\"Group: {name}\")\n",
    "    print(group)"
   ]
  },
  {
   "cell_type": "code",
   "execution_count": 10,
   "id": "877285d5",
   "metadata": {},
   "outputs": [
    {
     "name": "stdout",
     "output_type": "stream",
     "text": [
      "<class 'str'>\n",
      "<class 'pandas.core.series.Series'>\n",
      "<class 'str'>\n",
      "<class 'pandas.core.series.Series'>\n",
      "<class 'str'>\n",
      "<class 'pandas.core.series.Series'>\n"
     ]
    }
   ],
   "source": [
    "for name, group in result['team']:\n",
    "    print(type(name))\n",
    "    print(type(group))"
   ]
  },
  {
   "cell_type": "code",
   "execution_count": null,
   "id": "657838b1",
   "metadata": {},
   "outputs": [],
   "source": []
  },
  {
   "cell_type": "code",
   "execution_count": null,
   "id": "f9a8a14e",
   "metadata": {},
   "outputs": [],
   "source": []
  },
  {
   "cell_type": "code",
   "execution_count": null,
   "id": "3c282906",
   "metadata": {},
   "outputs": [],
   "source": []
  },
  {
   "cell_type": "code",
   "execution_count": null,
   "id": "5ce53534",
   "metadata": {},
   "outputs": [],
   "source": []
  }
 ],
 "metadata": {
  "kernelspec": {
   "display_name": "Python 3",
   "language": "python",
   "name": "python3"
  },
  "language_info": {
   "codemirror_mode": {
    "name": "ipython",
    "version": 3
   },
   "file_extension": ".py",
   "mimetype": "text/x-python",
   "name": "python",
   "nbconvert_exporter": "python",
   "pygments_lexer": "ipython3",
   "version": "3.13.1"
  }
 },
 "nbformat": 4,
 "nbformat_minor": 5
}
