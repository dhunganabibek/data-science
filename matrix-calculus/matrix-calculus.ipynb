{
 "cells": [
  {
   "cell_type": "markdown",
   "id": "d95c4420",
   "metadata": {},
   "source": [
    "# Matrix Calculus"
   ]
  },
  {
   "cell_type": "markdown",
   "id": "991e57e1",
   "metadata": {},
   "source": []
  }
 ],
 "metadata": {
  "language_info": {
   "name": "python"
  }
 },
 "nbformat": 4,
 "nbformat_minor": 5
}
