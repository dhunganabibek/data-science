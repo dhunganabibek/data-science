{
 "cells": [
  {
   "cell_type": "markdown",
   "id": "e54cdfa0",
   "metadata": {},
   "source": [
    "# Perception"
   ]
  },
  {
   "cell_type": "code",
   "execution_count": null,
   "id": "74435f5e",
   "metadata": {},
   "outputs": [],
   "source": []
  },
  {
   "cell_type": "markdown",
   "id": "62cd64db",
   "metadata": {},
   "source": []
  },
  {
   "cell_type": "markdown",
   "id": "62f20eb8",
   "metadata": {},
   "source": []
  }
 ],
 "metadata": {
  "language_info": {
   "name": "python"
  }
 },
 "nbformat": 4,
 "nbformat_minor": 5
}
